{
  "nbformat": 4,
  "nbformat_minor": 0,
  "metadata": {
    "colab": {
      "name": "Spacy_Final.ipynb",
      "provenance": [],
      "collapsed_sections": [],
      "authorship_tag": "ABX9TyNhpkpRvN4YuFxCaybJl5yJ",
      "include_colab_link": true
    },
    "kernelspec": {
      "name": "python3",
      "display_name": "Python 3"
    }
  },
  "cells": [
    {
      "cell_type": "markdown",
      "metadata": {
        "id": "view-in-github",
        "colab_type": "text"
      },
      "source": [
        "<a href=\"https://colab.research.google.com/github/colawhite/AllstateStudyGrp/blob/master/Spacy_Final.ipynb\" target=\"_parent\"><img src=\"https://colab.research.google.com/assets/colab-badge.svg\" alt=\"Open In Colab\"/></a>"
      ]
    },
    {
      "cell_type": "code",
      "metadata": {
        "id": "x9RFaOppeM-E",
        "colab_type": "code",
        "colab": {}
      },
      "source": [
        "# https://www.machinelearningplus.com/nlp/topic-modeling-gensim-python/\n",
        "# https://github.com/skipgram/modern-nlp-in-python/blob/master/executable/Modern_NLP_in_Python.ipynb\n",
        "# https://www.machinelearningplus.com/nlp/topic-modeling-visualization-how-to-present-results-lda-models/"
      ],
      "execution_count": 0,
      "outputs": []
    },
    {
      "cell_type": "markdown",
      "metadata": {
        "id": "HqrPxQn_eTUV",
        "colab_type": "text"
      },
      "source": [
        "Best practice (ref: https://groups.google.com/forum/#!topic/gensim/MgHwMJSX2t0)\n",
        "\n",
        "1. Lower case all words and clear texts from punctuation\n",
        "2. Remove stopwords\n",
        "3. Remove words with a length below 3 characters\n",
        "4. Lemmatize words\n",
        "5. Remove words with a length below 3 characters (again, as for example 'doing' will now be 'do' after step 4)\n",
        "6. Create bigrams via Phrases method (first train it on the texts after step 5 and then apply it to those texts)\n",
        "7. Prune the dictionary from high frequency words (words that occur in over 95% of the documents) and then prune the texts by excluding those words from the text\n",
        "8. Create the corpus"
      ]
    },
    {
      "cell_type": "code",
      "metadata": {
        "id": "v3LVVaP9f8SC",
        "colab_type": "code",
        "colab": {
          "base_uri": "https://localhost:8080/",
          "height": 622
        },
        "outputId": "3feff958-c2ad-4450-f0a2-2d0f131fa179"
      },
      "source": [
        "# install library\n",
        "#!pip install spacy\n",
        "#!pip install textacy\n",
        "#!pip install pyLDAvis\n",
        "from IPython.core.interactiveshell import InteractiveShell\n",
        "InteractiveShell.ast_node_interactivity = \"all\""
      ],
      "execution_count": 113,
      "outputs": [
        {
          "output_type": "stream",
          "text": [
            "ERROR! Session/line number was not unique in database. History logging moved to new session 61\n",
            "Collecting pyLDAvis\n",
            "\u001b[?25l  Downloading https://files.pythonhosted.org/packages/a5/3a/af82e070a8a96e13217c8f362f9a73e82d61ac8fff3a2561946a97f96266/pyLDAvis-2.1.2.tar.gz (1.6MB)\n",
            "\u001b[K     |████████████████████████████████| 1.6MB 3.5MB/s \n",
            "\u001b[?25hRequirement already satisfied: wheel>=0.23.0 in /usr/local/lib/python3.6/dist-packages (from pyLDAvis) (0.34.2)\n",
            "Requirement already satisfied: numpy>=1.9.2 in /usr/local/lib/python3.6/dist-packages (from pyLDAvis) (1.18.2)\n",
            "Requirement already satisfied: scipy>=0.18.0 in /usr/local/lib/python3.6/dist-packages (from pyLDAvis) (1.4.1)\n",
            "Requirement already satisfied: pandas>=0.17.0 in /usr/local/lib/python3.6/dist-packages (from pyLDAvis) (0.25.3)\n",
            "Requirement already satisfied: joblib>=0.8.4 in /usr/local/lib/python3.6/dist-packages (from pyLDAvis) (0.14.1)\n",
            "Requirement already satisfied: jinja2>=2.7.2 in /usr/local/lib/python3.6/dist-packages (from pyLDAvis) (2.11.1)\n",
            "Requirement already satisfied: numexpr in /usr/local/lib/python3.6/dist-packages (from pyLDAvis) (2.7.1)\n",
            "Requirement already satisfied: pytest in /usr/local/lib/python3.6/dist-packages (from pyLDAvis) (3.6.4)\n",
            "Requirement already satisfied: future in /usr/local/lib/python3.6/dist-packages (from pyLDAvis) (0.16.0)\n",
            "Collecting funcy\n",
            "\u001b[?25l  Downloading https://files.pythonhosted.org/packages/ce/4b/6ffa76544e46614123de31574ad95758c421aae391a1764921b8a81e1eae/funcy-1.14.tar.gz (548kB)\n",
            "\u001b[K     |████████████████████████████████| 552kB 15.5MB/s \n",
            "\u001b[?25hRequirement already satisfied: python-dateutil>=2.6.1 in /usr/local/lib/python3.6/dist-packages (from pandas>=0.17.0->pyLDAvis) (2.8.1)\n",
            "Requirement already satisfied: pytz>=2017.2 in /usr/local/lib/python3.6/dist-packages (from pandas>=0.17.0->pyLDAvis) (2018.9)\n",
            "Requirement already satisfied: MarkupSafe>=0.23 in /usr/local/lib/python3.6/dist-packages (from jinja2>=2.7.2->pyLDAvis) (1.1.1)\n",
            "Requirement already satisfied: attrs>=17.4.0 in /usr/local/lib/python3.6/dist-packages (from pytest->pyLDAvis) (19.3.0)\n",
            "Requirement already satisfied: more-itertools>=4.0.0 in /usr/local/lib/python3.6/dist-packages (from pytest->pyLDAvis) (8.2.0)\n",
            "Requirement already satisfied: setuptools in /usr/local/lib/python3.6/dist-packages (from pytest->pyLDAvis) (46.0.0)\n",
            "Requirement already satisfied: py>=1.5.0 in /usr/local/lib/python3.6/dist-packages (from pytest->pyLDAvis) (1.8.1)\n",
            "Requirement already satisfied: atomicwrites>=1.0 in /usr/local/lib/python3.6/dist-packages (from pytest->pyLDAvis) (1.3.0)\n",
            "Requirement already satisfied: six>=1.10.0 in /usr/local/lib/python3.6/dist-packages (from pytest->pyLDAvis) (1.12.0)\n",
            "Requirement already satisfied: pluggy<0.8,>=0.5 in /usr/local/lib/python3.6/dist-packages (from pytest->pyLDAvis) (0.7.1)\n",
            "Building wheels for collected packages: pyLDAvis, funcy\n",
            "  Building wheel for pyLDAvis (setup.py) ... \u001b[?25l\u001b[?25hdone\n",
            "  Created wheel for pyLDAvis: filename=pyLDAvis-2.1.2-py2.py3-none-any.whl size=97711 sha256=2a64ba336d23329bc2fd2481cef37ee67581cecef8c755399ab5bd39c2213e3c\n",
            "  Stored in directory: /root/.cache/pip/wheels/98/71/24/513a99e58bb6b8465bae4d2d5e9dba8f0bef8179e3051ac414\n",
            "  Building wheel for funcy (setup.py) ... \u001b[?25l\u001b[?25hdone\n",
            "  Created wheel for funcy: filename=funcy-1.14-py2.py3-none-any.whl size=32042 sha256=c2904f6722c677f5983151698ce0ad06826db0a05bd1f69334cf62585623b416\n",
            "  Stored in directory: /root/.cache/pip/wheels/20/5a/d8/1d875df03deae6f178dfdf70238cca33f948ef8a6f5209f2eb\n",
            "Successfully built pyLDAvis funcy\n",
            "Installing collected packages: funcy, pyLDAvis\n",
            "Successfully installed funcy-1.14 pyLDAvis-2.1.2\n"
          ],
          "name": "stdout"
        }
      ]
    },
    {
      "cell_type": "code",
      "metadata": {
        "id": "Bi7xjDslfTGO",
        "colab_type": "code",
        "colab": {}
      },
      "source": [
        "# required library\n",
        "import re\n",
        "import textacy\n",
        "import pyLDAvis.gensim\n",
        "import gensim.corpora as corpora\n",
        "from gensim.models import CoherenceModel\n",
        "import seaborn as sns\n",
        "import gensim\n",
        "import spacy\n",
        "import pandas as pd\n",
        "import wordcloud\n",
        "from wordcloud import WordCloud\n",
        "from collections import Counter\n",
        "from spacy.lang.es.stop_words import STOP_WORDS\n",
        "import nltk\n",
        "import matplotlib.pyplot as plt\n",
        "nlp = spacy.load('en',parser=False, entity=False)"
      ],
      "execution_count": 0,
      "outputs": []
    },
    {
      "cell_type": "code",
      "metadata": {
        "id": "CqhGb6F7edcH",
        "colab_type": "code",
        "colab": {}
      },
      "source": [
        "# use spacy for preprocessing and lemmatization, keep gensim simple_preprocess as reference\n",
        "#def preprocess(sentences):\n",
        "#    for sent in sentences:\n",
        "#        sent = re.sub('\\s+', ' ', sent)  # remove newline chars\n",
        "#        sent = re.sub(\"\\'\", \"\", sent)  # remove single quotes\n",
        "#        sent = gensim.utils.simple_preprocess(str(sent), deacc=True,min_len=3) #deacc = True: remove token mark\n",
        "#    return sent"
      ],
      "execution_count": 0,
      "outputs": []
    },
    {
      "cell_type": "code",
      "metadata": {
        "id": "WR9vpiE1fJeK",
        "colab_type": "code",
        "colab": {}
      },
      "source": [
        "doc = [\"i don't play 33 the basketball in Los Angeles. toy story 4 is my top-notch movie in Los Angeles!\"]\n",
        "#print (preprocess(doc))"
      ],
      "execution_count": 0,
      "outputs": []
    },
    {
      "cell_type": "code",
      "metadata": {
        "id": "Bcg07bP9fPWt",
        "colab_type": "code",
        "colab": {
          "base_uri": "https://localhost:8080/",
          "height": 118
        },
        "outputId": "41a9e1d6-6594-4de7-aa9b-d31e434c8df8"
      },
      "source": [
        "parsed=nlp(doc[0])\n",
        "print (parsed)\n",
        "for num, entity in enumerate(parsed.ents):\n",
        "    print ('Entity {}:'.format(num + 1), entity, '-', entity.label)\n",
        "spacy.displacy.render(parsed, style = \"ent\",jupyter = True)"
      ],
      "execution_count": 73,
      "outputs": [
        {
          "output_type": "stream",
          "text": [
            "i don't play 33 the basketball in Los Angeles. toy story 4 is my top-notch movie in Los Angeles!\n",
            "Entity 1: 33 - 397\n",
            "Entity 2: Los Angeles - 384\n",
            "Entity 3: Los Angeles - 384\n"
          ],
          "name": "stdout"
        },
        {
          "output_type": "display_data",
          "data": {
            "text/html": [
              "<span class=\"tex2jax_ignore\"><div class=\"entities\" style=\"line-height: 2.5; direction: ltr\">i don't play \n",
              "<mark class=\"entity\" style=\"background: #e4e7d2; padding: 0.45em 0.6em; margin: 0 0.25em; line-height: 1; border-radius: 0.35em;\">\n",
              "    33\n",
              "    <span style=\"font-size: 0.8em; font-weight: bold; line-height: 1; border-radius: 0.35em; text-transform: uppercase; vertical-align: middle; margin-left: 0.5rem\">CARDINAL</span>\n",
              "</mark>\n",
              " the basketball in \n",
              "<mark class=\"entity\" style=\"background: #feca74; padding: 0.45em 0.6em; margin: 0 0.25em; line-height: 1; border-radius: 0.35em;\">\n",
              "    Los Angeles\n",
              "    <span style=\"font-size: 0.8em; font-weight: bold; line-height: 1; border-radius: 0.35em; text-transform: uppercase; vertical-align: middle; margin-left: 0.5rem\">GPE</span>\n",
              "</mark>\n",
              ". toy story 4 is my top-notch movie in \n",
              "<mark class=\"entity\" style=\"background: #feca74; padding: 0.45em 0.6em; margin: 0 0.25em; line-height: 1; border-radius: 0.35em;\">\n",
              "    Los Angeles\n",
              "    <span style=\"font-size: 0.8em; font-weight: bold; line-height: 1; border-radius: 0.35em; text-transform: uppercase; vertical-align: middle; margin-left: 0.5rem\">GPE</span>\n",
              "</mark>\n",
              "!</div></span>"
            ],
            "text/plain": [
              "<IPython.core.display.HTML object>"
            ]
          },
          "metadata": {
            "tags": []
          }
        }
      ]
    },
    {
      "cell_type": "code",
      "metadata": {
        "id": "vqreFAnwf2Lo",
        "colab_type": "code",
        "colab": {
          "base_uri": "https://localhost:8080/",
          "height": 758
        },
        "outputId": "26fe1362-3b39-4265-b796-916555e7d45e"
      },
      "source": [
        "token_text = [token.orth_ for token in parsed]\n",
        "token_pos = [token.pos_ for token in parsed]\n",
        "token_lemma = [token.lemma_ for token in parsed]\n",
        "token_prob = [token.prob for token in parsed]\n",
        "token_is_stop = [token.is_stop for token in parsed]\n",
        "token_is_punct = [token.is_punct for token in parsed]\n",
        "token_like_num = [token.like_num for token in parsed]\n",
        "pd.DataFrame(zip(token_text, token_pos,token_lemma,token_prob,token_is_stop,token_is_punct,token_like_num),\n",
        "             columns=['token_text', 'part_of_speech','token_lemma','token_prob','is_stop?','is_punct?','likenum'])"
      ],
      "execution_count": 74,
      "outputs": [
        {
          "output_type": "execute_result",
          "data": {
            "text/html": [
              "<div>\n",
              "<style scoped>\n",
              "    .dataframe tbody tr th:only-of-type {\n",
              "        vertical-align: middle;\n",
              "    }\n",
              "\n",
              "    .dataframe tbody tr th {\n",
              "        vertical-align: top;\n",
              "    }\n",
              "\n",
              "    .dataframe thead th {\n",
              "        text-align: right;\n",
              "    }\n",
              "</style>\n",
              "<table border=\"1\" class=\"dataframe\">\n",
              "  <thead>\n",
              "    <tr style=\"text-align: right;\">\n",
              "      <th></th>\n",
              "      <th>token_text</th>\n",
              "      <th>part_of_speech</th>\n",
              "      <th>token_lemma</th>\n",
              "      <th>token_prob</th>\n",
              "      <th>is_stop?</th>\n",
              "      <th>is_punct?</th>\n",
              "      <th>likenum</th>\n",
              "    </tr>\n",
              "  </thead>\n",
              "  <tbody>\n",
              "    <tr>\n",
              "      <th>0</th>\n",
              "      <td>i</td>\n",
              "      <td>PRON</td>\n",
              "      <td>i</td>\n",
              "      <td>-20.0</td>\n",
              "      <td>True</td>\n",
              "      <td>False</td>\n",
              "      <td>False</td>\n",
              "    </tr>\n",
              "    <tr>\n",
              "      <th>1</th>\n",
              "      <td>do</td>\n",
              "      <td>AUX</td>\n",
              "      <td>do</td>\n",
              "      <td>-20.0</td>\n",
              "      <td>True</td>\n",
              "      <td>False</td>\n",
              "      <td>False</td>\n",
              "    </tr>\n",
              "    <tr>\n",
              "      <th>2</th>\n",
              "      <td>n't</td>\n",
              "      <td>PART</td>\n",
              "      <td>not</td>\n",
              "      <td>-20.0</td>\n",
              "      <td>True</td>\n",
              "      <td>False</td>\n",
              "      <td>False</td>\n",
              "    </tr>\n",
              "    <tr>\n",
              "      <th>3</th>\n",
              "      <td>play</td>\n",
              "      <td>VERB</td>\n",
              "      <td>play</td>\n",
              "      <td>-20.0</td>\n",
              "      <td>False</td>\n",
              "      <td>False</td>\n",
              "      <td>False</td>\n",
              "    </tr>\n",
              "    <tr>\n",
              "      <th>4</th>\n",
              "      <td>33</td>\n",
              "      <td>NUM</td>\n",
              "      <td>33</td>\n",
              "      <td>-20.0</td>\n",
              "      <td>False</td>\n",
              "      <td>False</td>\n",
              "      <td>True</td>\n",
              "    </tr>\n",
              "    <tr>\n",
              "      <th>5</th>\n",
              "      <td>the</td>\n",
              "      <td>DET</td>\n",
              "      <td>the</td>\n",
              "      <td>-20.0</td>\n",
              "      <td>True</td>\n",
              "      <td>False</td>\n",
              "      <td>False</td>\n",
              "    </tr>\n",
              "    <tr>\n",
              "      <th>6</th>\n",
              "      <td>basketball</td>\n",
              "      <td>NOUN</td>\n",
              "      <td>basketball</td>\n",
              "      <td>-20.0</td>\n",
              "      <td>False</td>\n",
              "      <td>False</td>\n",
              "      <td>False</td>\n",
              "    </tr>\n",
              "    <tr>\n",
              "      <th>7</th>\n",
              "      <td>in</td>\n",
              "      <td>ADP</td>\n",
              "      <td>in</td>\n",
              "      <td>-20.0</td>\n",
              "      <td>True</td>\n",
              "      <td>False</td>\n",
              "      <td>False</td>\n",
              "    </tr>\n",
              "    <tr>\n",
              "      <th>8</th>\n",
              "      <td>Los</td>\n",
              "      <td>PROPN</td>\n",
              "      <td>Los</td>\n",
              "      <td>-20.0</td>\n",
              "      <td>False</td>\n",
              "      <td>False</td>\n",
              "      <td>False</td>\n",
              "    </tr>\n",
              "    <tr>\n",
              "      <th>9</th>\n",
              "      <td>Angeles</td>\n",
              "      <td>PROPN</td>\n",
              "      <td>Angeles</td>\n",
              "      <td>-20.0</td>\n",
              "      <td>False</td>\n",
              "      <td>False</td>\n",
              "      <td>False</td>\n",
              "    </tr>\n",
              "    <tr>\n",
              "      <th>10</th>\n",
              "      <td>.</td>\n",
              "      <td>PUNCT</td>\n",
              "      <td>.</td>\n",
              "      <td>-20.0</td>\n",
              "      <td>False</td>\n",
              "      <td>True</td>\n",
              "      <td>False</td>\n",
              "    </tr>\n",
              "    <tr>\n",
              "      <th>11</th>\n",
              "      <td>toy</td>\n",
              "      <td>NOUN</td>\n",
              "      <td>toy</td>\n",
              "      <td>-20.0</td>\n",
              "      <td>False</td>\n",
              "      <td>False</td>\n",
              "      <td>False</td>\n",
              "    </tr>\n",
              "    <tr>\n",
              "      <th>12</th>\n",
              "      <td>story</td>\n",
              "      <td>NOUN</td>\n",
              "      <td>story</td>\n",
              "      <td>-20.0</td>\n",
              "      <td>False</td>\n",
              "      <td>False</td>\n",
              "      <td>False</td>\n",
              "    </tr>\n",
              "    <tr>\n",
              "      <th>13</th>\n",
              "      <td>4</td>\n",
              "      <td>NUM</td>\n",
              "      <td>4</td>\n",
              "      <td>-20.0</td>\n",
              "      <td>False</td>\n",
              "      <td>False</td>\n",
              "      <td>True</td>\n",
              "    </tr>\n",
              "    <tr>\n",
              "      <th>14</th>\n",
              "      <td>is</td>\n",
              "      <td>AUX</td>\n",
              "      <td>be</td>\n",
              "      <td>-20.0</td>\n",
              "      <td>True</td>\n",
              "      <td>False</td>\n",
              "      <td>False</td>\n",
              "    </tr>\n",
              "    <tr>\n",
              "      <th>15</th>\n",
              "      <td>my</td>\n",
              "      <td>DET</td>\n",
              "      <td>-PRON-</td>\n",
              "      <td>-20.0</td>\n",
              "      <td>True</td>\n",
              "      <td>False</td>\n",
              "      <td>False</td>\n",
              "    </tr>\n",
              "    <tr>\n",
              "      <th>16</th>\n",
              "      <td>top</td>\n",
              "      <td>ADJ</td>\n",
              "      <td>top</td>\n",
              "      <td>-20.0</td>\n",
              "      <td>True</td>\n",
              "      <td>False</td>\n",
              "      <td>False</td>\n",
              "    </tr>\n",
              "    <tr>\n",
              "      <th>17</th>\n",
              "      <td>-</td>\n",
              "      <td>PUNCT</td>\n",
              "      <td>-</td>\n",
              "      <td>-20.0</td>\n",
              "      <td>False</td>\n",
              "      <td>True</td>\n",
              "      <td>False</td>\n",
              "    </tr>\n",
              "    <tr>\n",
              "      <th>18</th>\n",
              "      <td>notch</td>\n",
              "      <td>NOUN</td>\n",
              "      <td>notch</td>\n",
              "      <td>-20.0</td>\n",
              "      <td>False</td>\n",
              "      <td>False</td>\n",
              "      <td>False</td>\n",
              "    </tr>\n",
              "    <tr>\n",
              "      <th>19</th>\n",
              "      <td>movie</td>\n",
              "      <td>NOUN</td>\n",
              "      <td>movie</td>\n",
              "      <td>-20.0</td>\n",
              "      <td>False</td>\n",
              "      <td>False</td>\n",
              "      <td>False</td>\n",
              "    </tr>\n",
              "    <tr>\n",
              "      <th>20</th>\n",
              "      <td>in</td>\n",
              "      <td>ADP</td>\n",
              "      <td>in</td>\n",
              "      <td>-20.0</td>\n",
              "      <td>True</td>\n",
              "      <td>False</td>\n",
              "      <td>False</td>\n",
              "    </tr>\n",
              "    <tr>\n",
              "      <th>21</th>\n",
              "      <td>Los</td>\n",
              "      <td>PROPN</td>\n",
              "      <td>Los</td>\n",
              "      <td>-20.0</td>\n",
              "      <td>False</td>\n",
              "      <td>False</td>\n",
              "      <td>False</td>\n",
              "    </tr>\n",
              "    <tr>\n",
              "      <th>22</th>\n",
              "      <td>Angeles</td>\n",
              "      <td>PROPN</td>\n",
              "      <td>Angeles</td>\n",
              "      <td>-20.0</td>\n",
              "      <td>False</td>\n",
              "      <td>False</td>\n",
              "      <td>False</td>\n",
              "    </tr>\n",
              "    <tr>\n",
              "      <th>23</th>\n",
              "      <td>!</td>\n",
              "      <td>PUNCT</td>\n",
              "      <td>!</td>\n",
              "      <td>-20.0</td>\n",
              "      <td>False</td>\n",
              "      <td>True</td>\n",
              "      <td>False</td>\n",
              "    </tr>\n",
              "  </tbody>\n",
              "</table>\n",
              "</div>"
            ],
            "text/plain": [
              "    token_text part_of_speech token_lemma  ...  is_stop?  is_punct?  likenum\n",
              "0            i           PRON           i  ...      True      False    False\n",
              "1           do            AUX          do  ...      True      False    False\n",
              "2          n't           PART         not  ...      True      False    False\n",
              "3         play           VERB        play  ...     False      False    False\n",
              "4           33            NUM          33  ...     False      False     True\n",
              "5          the            DET         the  ...      True      False    False\n",
              "6   basketball           NOUN  basketball  ...     False      False    False\n",
              "7           in            ADP          in  ...      True      False    False\n",
              "8          Los          PROPN         Los  ...     False      False    False\n",
              "9      Angeles          PROPN     Angeles  ...     False      False    False\n",
              "10           .          PUNCT           .  ...     False       True    False\n",
              "11         toy           NOUN         toy  ...     False      False    False\n",
              "12       story           NOUN       story  ...     False      False    False\n",
              "13           4            NUM           4  ...     False      False     True\n",
              "14          is            AUX          be  ...      True      False    False\n",
              "15          my            DET      -PRON-  ...      True      False    False\n",
              "16         top            ADJ         top  ...      True      False    False\n",
              "17           -          PUNCT           -  ...     False       True    False\n",
              "18       notch           NOUN       notch  ...     False      False    False\n",
              "19       movie           NOUN       movie  ...     False      False    False\n",
              "20          in            ADP          in  ...      True      False    False\n",
              "21         Los          PROPN         Los  ...     False      False    False\n",
              "22     Angeles          PROPN     Angeles  ...     False      False    False\n",
              "23           !          PUNCT           !  ...     False       True    False\n",
              "\n",
              "[24 rows x 7 columns]"
            ]
          },
          "metadata": {
            "tags": []
          },
          "execution_count": 74
        }
      ]
    },
    {
      "cell_type": "code",
      "metadata": {
        "id": "HV9QHnBVgb7V",
        "colab_type": "code",
        "colab": {
          "base_uri": "https://localhost:8080/",
          "height": 50
        },
        "outputId": "a863f104-19fa-48c4-b4be-369f0a0666cf"
      },
      "source": [
        "df = pd.DataFrame(zip(token_text, token_pos,token_lemma,token_prob,token_is_stop,token_is_punct,token_like_num),\n",
        "             columns=['token_text', 'part_of_speech','token_lemma','token_prob','is_stop','is_punct?','likenum'])\n",
        "token = list(df[(df.part_of_speech!='PUNCT') & (df.is_stop==False)].token_lemma)\n",
        "print (token)\n",
        "# add entities, remove partial entities\n",
        "for entity in parsed.ents:\n",
        "    n = len(entity)\n",
        "    for i in range(n):\n",
        "        if str(entity[i]) in token: token.remove(str(entity[i])) \n",
        "    if str(entity) not in token:\n",
        "        token += [str(entity)]\n",
        "print (token)"
      ],
      "execution_count": 75,
      "outputs": [
        {
          "output_type": "stream",
          "text": [
            "['play', '33', 'basketball', 'Los', 'Angeles', 'toy', 'story', '4', 'notch', 'movie', 'Los', 'Angeles']\n",
            "['play', 'basketball', 'toy', 'story', '4', 'notch', 'movie', '33', 'Los Angeles']\n"
          ],
          "name": "stdout"
        }
      ]
    },
    {
      "cell_type": "code",
      "metadata": {
        "id": "1SkDZnuYnINS",
        "colab_type": "code",
        "colab": {
          "base_uri": "https://localhost:8080/",
          "height": 50
        },
        "outputId": "eaba6805-ec30-4100-db9b-c502e9c02b22"
      },
      "source": [
        "# add ngram using textacy\n",
        "print (doc[0])\n",
        "bigram_obj = textacy.make_spacy_doc(doc[0], lang='en_core_web_sm')\n",
        "for bigram in list(textacy.extract.ngrams(bigram_obj,2)):\n",
        "    if str(bigram) not in token: token.append(str(bigram))\n",
        "print (token)"
      ],
      "execution_count": 76,
      "outputs": [
        {
          "output_type": "stream",
          "text": [
            "i don't play 33 the basketball in Los Angeles. toy story 4 is my top-notch movie in Los Angeles!\n",
            "['play', 'basketball', 'toy', 'story', '4', 'notch', 'movie', '33', 'Los Angeles', 'play 33', 'toy story', 'story 4', 'notch movie']\n"
          ],
          "name": "stdout"
        }
      ]
    },
    {
      "cell_type": "code",
      "metadata": {
        "id": "ZY28vMe0hQ7H",
        "colab_type": "code",
        "colab": {
          "base_uri": "https://localhost:8080/",
          "height": 566
        },
        "outputId": "731a3607-960c-4242-aa22-4ef508b43ad8"
      },
      "source": [
        "fd=nltk.FreqDist(token)\n",
        "fd.plot()\n",
        "print(dict(fd))\n",
        "wordcloud = WordCloud(relative_scaling=1.0).generate_from_frequencies(dict(fd)) \n",
        "plt.imshow(wordcloud)"
      ],
      "execution_count": 81,
      "outputs": [
        {
          "output_type": "display_data",
          "data": {
            "image/png": "[encoded data removed]",
            "text/plain": [
              "<Figure size 432x288 with 1 Axes>"
            ]
          },
          "metadata": {
            "tags": []
          }
        },
        {
          "output_type": "stream",
          "text": [
            "{'play': 1, 'basketball': 1, 'toy': 1, 'story': 1, '4': 1, 'notch': 1, 'movie': 1, '33': 1, 'Los Angeles': 1, 'play 33': 1, 'toy story': 1, 'story 4': 1, 'notch movie': 1}\n"
          ],
          "name": "stdout"
        },
        {
          "output_type": "execute_result",
          "data": {
            "text/plain": [
              "<matplotlib.image.AxesImage at 0x7fd255dbea90>"
            ]
          },
          "metadata": {
            "tags": []
          },
          "execution_count": 81
        },
        {
          "output_type": "display_data",
          "data": {
            "image/png": "[encoded data removed]",
            "text/plain": [
              "<Figure size 432x288 with 1 Axes>"
            ]
          },
          "metadata": {
            "tags": []
          }
        }
      ]
    },
    {
      "cell_type": "code",
      "metadata": {
        "id": "52S-AnAapMT8",
        "colab_type": "code",
        "colab": {
          "base_uri": "https://localhost:8080/",
          "height": 34
        },
        "outputId": "f83ba5b5-3c22-4a44-c7df-bf788b810f9b"
      },
      "source": [
        "# lemmatization\n",
        "token_join = u' '.join(token)\n",
        "data_ready = [token]\n",
        "print (data_ready)"
      ],
      "execution_count": 93,
      "outputs": [
        {
          "output_type": "stream",
          "text": [
            "[['play', 'basketball', 'toy', 'story', '4', 'notch', 'movie', '33', 'Los Angeles', 'play 33', 'toy story', 'story 4', 'notch movie']]\n"
          ],
          "name": "stdout"
        }
      ]
    },
    {
      "cell_type": "code",
      "metadata": {
        "id": "FV9Eq60ZhwU7",
        "colab_type": "code",
        "colab": {
          "base_uri": "https://localhost:8080/",
          "height": 84
        },
        "outputId": "ca955ba4-6d81-4f7f-ab51-e9cfff4e0a28"
      },
      "source": [
        "# create corpus\n",
        "id2word = corpora.Dictionary(data_ready)\n",
        "print (len(data_ready))\n",
        "print (len(id2word)) # 10 unique id\n",
        "print(id2word)\n",
        "corpus = [id2word.doc2bow(text) for text in data_ready]\n",
        "print (corpus)"
      ],
      "execution_count": 94,
      "outputs": [
        {
          "output_type": "stream",
          "text": [
            "1\n",
            "13\n",
            "Dictionary(13 unique tokens: ['33', '4', 'Los Angeles', 'basketball', 'movie']...)\n",
            "[[(0, 1), (1, 1), (2, 1), (3, 1), (4, 1), (5, 1), (6, 1), (7, 1), (8, 1), (9, 1), (10, 1), (11, 1), (12, 1)]]\n"
          ],
          "name": "stdout"
        }
      ]
    },
    {
      "cell_type": "code",
      "metadata": {
        "id": "OUVK9PsnnB0M",
        "colab_type": "code",
        "colab": {
          "base_uri": "https://localhost:8080/",
          "height": 235
        },
        "outputId": "1db51729-f4d8-4997-bd6f-e4ada6644f2e"
      },
      "source": [
        "# Human readable format of corpus (term-frequency)\n",
        "[[(id2word[id], freq) for id, freq in cp] for cp in corpus]"
      ],
      "execution_count": 95,
      "outputs": [
        {
          "output_type": "execute_result",
          "data": {
            "text/plain": [
              "[[('33', 1),\n",
              "  ('4', 1),\n",
              "  ('Los Angeles', 1),\n",
              "  ('basketball', 1),\n",
              "  ('movie', 1),\n",
              "  ('notch', 1),\n",
              "  ('notch movie', 1),\n",
              "  ('play', 1),\n",
              "  ('play 33', 1),\n",
              "  ('story', 1),\n",
              "  ('story 4', 1),\n",
              "  ('toy', 1),\n",
              "  ('toy story', 1)]]"
            ]
          },
          "metadata": {
            "tags": []
          },
          "execution_count": 95
        }
      ]
    },
    {
      "cell_type": "code",
      "metadata": {
        "id": "jWZFDJERomry",
        "colab_type": "code",
        "colab": {}
      },
      "source": [
        "lda_model = gensim.models.ldamodel.LdaModel(corpus=corpus,\n",
        "                                           id2word=id2word,\n",
        "                                           num_topics=3, \n",
        "                                           random_state=100,\n",
        "                                           update_every=1,\n",
        "                                           chunksize=10,\n",
        "                                           passes=10,\n",
        "                                           alpha='symmetric',\n",
        "                                           iterations=100,\n",
        "                                           per_word_topics=True)"
      ],
      "execution_count": 0,
      "outputs": []
    },
    {
      "cell_type": "code",
      "metadata": {
        "id": "5hCq63IyqNvD",
        "colab_type": "code",
        "colab": {
          "base_uri": "https://localhost:8080/",
          "height": 77
        },
        "outputId": "9ee30622-5664-4abe-e9b9-9f59586754c5"
      },
      "source": [
        "sent_topics_df = pd.DataFrame()\n",
        "for i, row_list in enumerate(lda_model[corpus]): \n",
        "    #if i == 5: break\n",
        "    row = row_list[0] if lda_model.per_word_topics else row_list \n",
        "    row = sorted(row, key=lambda x: (x[1]), reverse=True) # sort by probability\n",
        "    #print (i,row_list) # 0 ([(0, 0.12504743), (1, 0.12505735), (2, 0.62483203), (3, 0.12506321)], [(0, [2])], [(0, [(2, 0.99966407)])])\n",
        "    #print ('*')\n",
        "    #print (row) # [(0, 0.12504743), (1, 0.12505735), (2, 0.62483203), (3, 0.12506321)]\n",
        "    #print ('*'*2)\n",
        "    for j, (topic_num, prop_topic) in enumerate(row):\n",
        "            if j == 0:  # => dominant topic\n",
        "                wp = lda_model.show_topic(topic_num) \n",
        "                #print (wp) # [('god', 0.045394894), ('hayward', 0.03953819), ('jonathan', 0.039538156), ('greatest', 0.03808196), ('strength', 0.038081944), ('give', 0.03808194), ('climbing', 0.03808189), ('important', 0.03746834), ('cords', 0.031485148), ('infinite', 0.031484917)]\n",
        "                topic_keywords = \", \".join([word for word, prop in wp])\n",
        "                sent_topics_df = sent_topics_df.append(pd.Series([int(topic_num), round(prop_topic,4), topic_keywords]), ignore_index=True)\n",
        "sent_topics_df.columns = ['Dominant_Topic', 'Perc_Contribution', 'Topic_Keywords']\n",
        "sent_topics_df.head()"
      ],
      "execution_count": 100,
      "outputs": [
        {
          "output_type": "execute_result",
          "data": {
            "text/html": [
              "<div>\n",
              "<style scoped>\n",
              "    .dataframe tbody tr th:only-of-type {\n",
              "        vertical-align: middle;\n",
              "    }\n",
              "\n",
              "    .dataframe tbody tr th {\n",
              "        vertical-align: top;\n",
              "    }\n",
              "\n",
              "    .dataframe thead th {\n",
              "        text-align: right;\n",
              "    }\n",
              "</style>\n",
              "<table border=\"1\" class=\"dataframe\">\n",
              "  <thead>\n",
              "    <tr style=\"text-align: right;\">\n",
              "      <th></th>\n",
              "      <th>Dominant_Topic</th>\n",
              "      <th>Perc_Contribution</th>\n",
              "      <th>Topic_Keywords</th>\n",
              "    </tr>\n",
              "  </thead>\n",
              "  <tbody>\n",
              "    <tr>\n",
              "      <th>0</th>\n",
              "      <td>0.0</td>\n",
              "      <td>0.9508</td>\n",
              "      <td>toy story, play 33, notch, basketball, story, ...</td>\n",
              "    </tr>\n",
              "  </tbody>\n",
              "</table>\n",
              "</div>"
            ],
            "text/plain": [
              "   Dominant_Topic  ...                                     Topic_Keywords\n",
              "0             0.0  ...  toy story, play 33, notch, basketball, story, ...\n",
              "\n",
              "[1 rows x 3 columns]"
            ]
          },
          "metadata": {
            "tags": []
          },
          "execution_count": 100
        }
      ]
    },
    {
      "cell_type": "code",
      "metadata": {
        "id": "jaL6yDXpqY72",
        "colab_type": "code",
        "colab": {
          "base_uri": "https://localhost:8080/",
          "height": 54
        },
        "outputId": "2c068534-6a88-4fb9-802b-d812ddaf95e7"
      },
      "source": [
        "topics = lda_model.show_topics(formatted=False)\n",
        "print (topics)"
      ],
      "execution_count": 101,
      "outputs": [
        {
          "output_type": "stream",
          "text": [
            "[(0, [('toy story', 0.076947615), ('play 33', 0.07694121), ('notch', 0.076931715), ('basketball', 0.07693125), ('story', 0.0769276), ('Los Angeles', 0.07692552), ('story 4', 0.076925345), ('4', 0.076924674), ('movie', 0.07692198), ('play', 0.07691896)]), (1, [('33', 0.07705096), ('toy', 0.07700764), ('notch movie', 0.0769618), ('play', 0.07694236), ('movie', 0.076926254), ('Los Angeles', 0.076917455), ('4', 0.076913185), ('story 4', 0.07691053), ('story', 0.076904364), ('basketball', 0.07689349)]), (2, [('toy', 0.07692899), ('4', 0.07692659), ('story 4', 0.076926574), ('notch movie', 0.0769244), ('movie', 0.07692425), ('notch', 0.076924205), ('story', 0.076923795), ('33', 0.07692355), ('play 33', 0.07692246), ('basketball', 0.07692013)])]\n"
          ],
          "name": "stdout"
        }
      ]
    },
    {
      "cell_type": "code",
      "metadata": {
        "id": "6u6wtiR0tIKl",
        "colab_type": "code",
        "colab": {
          "base_uri": "https://localhost:8080/",
          "height": 1000
        },
        "outputId": "5cf9a2e5-b6a8-4cde-ab82-b6292d47e4b2"
      },
      "source": [
        "# only work for 4 topics\n",
        "import seaborn as sns\n",
        "import matplotlib.colors as mcolors\n",
        "cols = [color for name, color in mcolors.TABLEAU_COLORS.items()]  # more colors: 'mcolors.XKCD_COLORS'\n",
        "\n",
        "fig, axes = plt.subplots(2,2,figsize=(16,14), dpi=160, sharex=True, sharey=True)\n",
        "\n",
        "for i, ax in enumerate(axes.flatten()):    \n",
        "    df_dominant_topic_sub = df_dominant_topic.loc[df_dominant_topic.Dominant_Topic == i, :]\n",
        "    doc_lens = [len(d) for d in df_dominant_topic_sub.Text]\n",
        "    ax.hist(doc_lens, bins = 1000, color=cols[i])\n",
        "    ax.tick_params(axis='y', labelcolor=cols[i], color=cols[i])\n",
        "    sns.kdeplot(doc_lens, color=\"black\", shade=False, ax=ax.twinx())\n",
        "    ax.set(xlim=(0, 1000), xlabel='Document Word Count')\n",
        "    ax.set_ylabel('Number of Documents', color=cols[i])\n",
        "    ax.set_title('Topic: '+str(i), fontdict=dict(size=16, color=cols[i]))\n",
        "\n",
        "fig.tight_layout()\n",
        "fig.subplots_adjust(top=0.90)\n",
        "plt.xticks(np.linspace(0,1000,9))\n",
        "fig.suptitle('Distribution of Document Word Counts by Dominant Topic', fontsize=22)\n",
        "plt.show()"
      ],
      "execution_count": 116,
      "outputs": [
        {
          "output_type": "error",
          "ename": "NameError",
          "evalue": "ignored",
          "traceback": [
            "\u001b[0;31m---------------------------------------------------------------------------\u001b[0m",
            "\u001b[0;31mNameError\u001b[0m                                 Traceback (most recent call last)",
            "\u001b[0;32m<ipython-input-116-cfc41bd4707a>\u001b[0m in \u001b[0;36m<module>\u001b[0;34m()\u001b[0m\n\u001b[1;32m      6\u001b[0m \u001b[0;34m\u001b[0m\u001b[0m\n\u001b[1;32m      7\u001b[0m \u001b[0;32mfor\u001b[0m \u001b[0mi\u001b[0m\u001b[0;34m,\u001b[0m \u001b[0max\u001b[0m \u001b[0;32min\u001b[0m \u001b[0menumerate\u001b[0m\u001b[0;34m(\u001b[0m\u001b[0maxes\u001b[0m\u001b[0;34m.\u001b[0m\u001b[0mflatten\u001b[0m\u001b[0;34m(\u001b[0m\u001b[0;34m)\u001b[0m\u001b[0;34m)\u001b[0m\u001b[0;34m:\u001b[0m\u001b[0;34m\u001b[0m\u001b[0;34m\u001b[0m\u001b[0m\n\u001b[0;32m----> 8\u001b[0;31m     \u001b[0mdf_dominant_topic_sub\u001b[0m \u001b[0;34m=\u001b[0m \u001b[0mdf_dominant_topic\u001b[0m\u001b[0;34m.\u001b[0m\u001b[0mloc\u001b[0m\u001b[0;34m[\u001b[0m\u001b[0mdf_dominant_topic\u001b[0m\u001b[0;34m.\u001b[0m\u001b[0mDominant_Topic\u001b[0m \u001b[0;34m==\u001b[0m \u001b[0mi\u001b[0m\u001b[0;34m,\u001b[0m \u001b[0;34m:\u001b[0m\u001b[0;34m]\u001b[0m\u001b[0;34m\u001b[0m\u001b[0;34m\u001b[0m\u001b[0m\n\u001b[0m\u001b[1;32m      9\u001b[0m     \u001b[0mdoc_lens\u001b[0m \u001b[0;34m=\u001b[0m \u001b[0;34m[\u001b[0m\u001b[0mlen\u001b[0m\u001b[0;34m(\u001b[0m\u001b[0md\u001b[0m\u001b[0;34m)\u001b[0m \u001b[0;32mfor\u001b[0m \u001b[0md\u001b[0m \u001b[0;32min\u001b[0m \u001b[0mdf_dominant_topic_sub\u001b[0m\u001b[0;34m.\u001b[0m\u001b[0mText\u001b[0m\u001b[0;34m]\u001b[0m\u001b[0;34m\u001b[0m\u001b[0;34m\u001b[0m\u001b[0m\n\u001b[1;32m     10\u001b[0m     \u001b[0max\u001b[0m\u001b[0;34m.\u001b[0m\u001b[0mhist\u001b[0m\u001b[0;34m(\u001b[0m\u001b[0mdoc_lens\u001b[0m\u001b[0;34m,\u001b[0m \u001b[0mbins\u001b[0m \u001b[0;34m=\u001b[0m \u001b[0;36m1000\u001b[0m\u001b[0;34m,\u001b[0m \u001b[0mcolor\u001b[0m\u001b[0;34m=\u001b[0m\u001b[0mcols\u001b[0m\u001b[0;34m[\u001b[0m\u001b[0mi\u001b[0m\u001b[0;34m]\u001b[0m\u001b[0;34m)\u001b[0m\u001b[0;34m\u001b[0m\u001b[0;34m\u001b[0m\u001b[0m\n",
            "\u001b[0;31mNameError\u001b[0m: name 'df_dominant_topic' is not defined"
          ]
        },
        {
          "output_type": "display_data",
          "data": {
            "image/png": "[encoded data removed]",
            "text/plain": [
              "<Figure size 2560x2240 with 4 Axes>"
            ]
          },
          "metadata": {
            "tags": []
          }
        }
      ]
    },
    {
      "cell_type": "code",
      "metadata": {
        "id": "vZChTRwLqfAc",
        "colab_type": "code",
        "colab": {
          "base_uri": "https://localhost:8080/",
          "height": 812
        },
        "outputId": "ad37ea2c-16b6-4cae-8042-8b5863898281"
      },
      "source": [
        "from matplotlib import pyplot as plt\n",
        "from wordcloud import WordCloud, STOPWORDS\n",
        "import matplotlib.colors as mcolors\n",
        "\n",
        "fig, axes = plt.subplots(1, 1, figsize=(10,10), sharex=True, sharey=True)\n",
        "cloud = WordCloud(\n",
        "                  background_color='black',\n",
        "                  width=2500,\n",
        "                  height=1800,\n",
        "                  max_words=10,\n",
        "                  colormap='tab10',\n",
        "                  #color_func=lambda *args, **kwargs: cols[i],\n",
        "                  prefer_horizontal=1.0)\n",
        "\n",
        "#for i, ax in enumerate(axes.flatten()):\n",
        "for i, ax in enumerate(axes):\n",
        "    fig.add_subplot(ax)\n",
        "    topic_words = dict(topics[i][1])\n",
        "    cloud.generate_from_frequencies(topic_words, max_font_size=300)\n",
        "    plt.gca().imshow(cloud)\n",
        "    plt.gca().set_title('Topic ' + str(i), fontdict=dict(size=16))\n",
        "    plt.gca().axis('off')"
      ],
      "execution_count": 105,
      "outputs": [
        {
          "output_type": "error",
          "ename": "TypeError",
          "evalue": "ignored",
          "traceback": [
            "\u001b[0;31m---------------------------------------------------------------------------\u001b[0m",
            "\u001b[0;31mTypeError\u001b[0m                                 Traceback (most recent call last)",
            "\u001b[0;32m<ipython-input-105-4d2f2501e41e>\u001b[0m in \u001b[0;36m<module>\u001b[0;34m()\u001b[0m\n\u001b[1;32m     14\u001b[0m \u001b[0;34m\u001b[0m\u001b[0m\n\u001b[1;32m     15\u001b[0m \u001b[0;31m#for i, ax in enumerate(axes.flatten()):\u001b[0m\u001b[0;34m\u001b[0m\u001b[0;34m\u001b[0m\u001b[0;34m\u001b[0m\u001b[0m\n\u001b[0;32m---> 16\u001b[0;31m \u001b[0;32mfor\u001b[0m \u001b[0mi\u001b[0m\u001b[0;34m,\u001b[0m \u001b[0max\u001b[0m \u001b[0;32min\u001b[0m \u001b[0menumerate\u001b[0m\u001b[0;34m(\u001b[0m\u001b[0maxes\u001b[0m\u001b[0;34m)\u001b[0m\u001b[0;34m:\u001b[0m\u001b[0;34m\u001b[0m\u001b[0;34m\u001b[0m\u001b[0m\n\u001b[0m\u001b[1;32m     17\u001b[0m     \u001b[0mfig\u001b[0m\u001b[0;34m.\u001b[0m\u001b[0madd_subplot\u001b[0m\u001b[0;34m(\u001b[0m\u001b[0max\u001b[0m\u001b[0;34m)\u001b[0m\u001b[0;34m\u001b[0m\u001b[0;34m\u001b[0m\u001b[0m\n\u001b[1;32m     18\u001b[0m     \u001b[0mtopic_words\u001b[0m \u001b[0;34m=\u001b[0m \u001b[0mdict\u001b[0m\u001b[0;34m(\u001b[0m\u001b[0mtopics\u001b[0m\u001b[0;34m[\u001b[0m\u001b[0mi\u001b[0m\u001b[0;34m]\u001b[0m\u001b[0;34m[\u001b[0m\u001b[0;36m1\u001b[0m\u001b[0;34m]\u001b[0m\u001b[0;34m)\u001b[0m\u001b[0;34m\u001b[0m\u001b[0;34m\u001b[0m\u001b[0m\n",
            "\u001b[0;31mTypeError\u001b[0m: 'AxesSubplot' object is not iterable"
          ]
        },
        {
          "output_type": "display_data",
          "data": {
            "image/png": "[encoded data removed]",
            "text/plain": [
              "<Figure size 720x720 with 1 Axes>"
            ]
          },
          "metadata": {
            "tags": []
          }
        }
      ]
    },
    {
      "cell_type": "code",
      "metadata": {
        "id": "90Es8lpfqkrA",
        "colab_type": "code",
        "colab": {
          "base_uri": "https://localhost:8080/",
          "height": 149
        },
        "outputId": "21197ad0-c923-476b-e48d-add4d1ccac20"
      },
      "source": [
        "# Sentence Coloring of N Sentences\n",
        "from matplotlib.patches import Rectangle\n",
        "\n",
        "def sentences_chart(lda_model=lda_model, corpus=corpus, start = 0, end = 2):\n",
        "    corp = corpus[start:end]\n",
        "    mycolors = [color for name, color in mcolors.TABLEAU_COLORS.items()]\n",
        "\n",
        "    fig, axes = plt.subplots(end-start, 1, figsize=(20, (end-start)*0.95), dpi=160)       \n",
        "    axes[0].axis('off')\n",
        "    for i, ax in enumerate(axes):\n",
        "        if i > 0:\n",
        "            corp_cur = corp[i-1] \n",
        "            topic_percs, wordid_topics, wordid_phivalues = lda_model[corp_cur]\n",
        "            word_dominanttopic = [(lda_model.id2word[wd], topic[0]) for wd, topic in wordid_topics]    \n",
        "            ax.text(0.01, 0.5, \"Doc \" + str(i-1) + \": \", verticalalignment='center',\n",
        "                    fontsize=16, color='black', transform=ax.transAxes, fontweight=700)\n",
        "\n",
        "            # Draw Rectange\n",
        "            topic_percs_sorted = sorted(topic_percs, key=lambda x: (x[1]), reverse=True)\n",
        "            ax.add_patch(Rectangle((0.0, 0.05), 0.99, 0.90, fill=None, alpha=1, \n",
        "                                   color=mycolors[topic_percs_sorted[0][0]], linewidth=2))\n",
        "\n",
        "            word_pos = 0.06\n",
        "            for j, (word, topics) in enumerate(word_dominanttopic):\n",
        "                if j < 14:\n",
        "                    ax.text(word_pos, 0.5, word,\n",
        "                            horizontalalignment='left',\n",
        "                            verticalalignment='center',\n",
        "                            fontsize=16, color=mycolors[topics],\n",
        "                            transform=ax.transAxes, fontweight=700)\n",
        "                    word_pos += .009 * len(word)  # to move the word for the next iter\n",
        "                    ax.axis('off')\n",
        "            ax.text(word_pos, 0.5, '. . .',\n",
        "                    horizontalalignment='left',\n",
        "                    verticalalignment='center',\n",
        "                    fontsize=16, color='black',\n",
        "                    transform=ax.transAxes)       \n",
        "\n",
        "    plt.subplots_adjust(wspace=0, hspace=0)\n",
        "    plt.suptitle('Sentence Topic Coloring for Documents: ' + str(start) + ' to ' + str(end-2), fontsize=22, y=0.95, fontweight=700)\n",
        "    plt.tight_layout()\n",
        "    plt.show()\n",
        "\n",
        "sentences_chart()  "
      ],
      "execution_count": 120,
      "outputs": [
        {
          "output_type": "display_data",
          "data": {
            "image/png": "[encoded data removed]",
            "text/plain": [
              "<Figure size 3200x304 with 2 Axes>"
            ]
          },
          "metadata": {
            "tags": []
          }
        }
      ]
    },
    {
      "cell_type": "code",
      "metadata": {
        "id": "udgxDLE4q9d1",
        "colab_type": "code",
        "colab": {
          "base_uri": "https://localhost:8080/",
          "height": 151
        },
        "outputId": "bb1cf4db-46b6-4fa0-b615-33bb2f920f36"
      },
      "source": [
        "# Compute Perplexity\n",
        "print('\\nPerplexity: ', lda_model.log_perplexity(corpus))  # a measure of how good the model is. lower the better.\n",
        "\n",
        "# Compute Coherence Score\n",
        "coherence_model_lda = CoherenceModel(model=lda_model, texts=token, dictionary=id2word, coherence='c_v')\n",
        "coherence_lda = coherence_model_lda.get_coherence()\n",
        "print('\\nCoherence Score: ', coherence_lda)"
      ],
      "execution_count": 110,
      "outputs": [
        {
          "output_type": "stream",
          "text": [
            "\n",
            "Perplexity:  -3.5653519859680762\n",
            "\n",
            "Coherence Score:  nan\n"
          ],
          "name": "stdout"
        },
        {
          "output_type": "stream",
          "text": [
            "/usr/local/lib/python3.6/dist-packages/gensim/topic_coherence/direct_confirmation_measure.py:195: RuntimeWarning: divide by zero encountered in double_scalars\n",
            "  m_lr_i = np.log(numerator / denominator)\n",
            "/usr/local/lib/python3.6/dist-packages/gensim/topic_coherence/indirect_confirmation_measure.py:317: RuntimeWarning: invalid value encountered in double_scalars\n",
            "  return cv1.T.dot(cv2)[0, 0] / (_magnitude(cv1) * _magnitude(cv2))\n"
          ],
          "name": "stderr"
        }
      ]
    },
    {
      "cell_type": "code",
      "metadata": {
        "id": "NbA3uPQgrWlb",
        "colab_type": "code",
        "colab": {
          "base_uri": "https://localhost:8080/",
          "height": 995
        },
        "outputId": "b148488d-b0bc-4d43-a214-cc4730113ab9"
      },
      "source": [
        "pyLDAvis.enable_notebook()\n",
        "vis = pyLDAvis.gensim.prepare(lda_model, corpus, id2word)\n",
        "vis"
      ],
      "execution_count": 115,
      "outputs": [
        {
          "output_type": "stream",
          "text": [
            "/usr/local/lib/python3.6/dist-packages/pyLDAvis/_prepare.py:257: FutureWarning: Sorting because non-concatenation axis is not aligned. A future version\n",
            "of pandas will change to not sort by default.\n",
            "\n",
            "To accept the future behavior, pass 'sort=False'.\n",
            "\n",
            "To retain the current behavior and silence the warning, pass 'sort=True'.\n",
            "\n",
            "  return pd.concat([default_term_info] + list(topic_dfs))\n"
          ],
          "name": "stderr"
        },
        {
          "output_type": "execute_result",
          "data": {
            "text/html": [
              "\n",
              "<link rel=\"stylesheet\" type=\"text/css\" href=\"https://cdn.rawgit.com/bmabey/pyLDAvis/files/ldavis.v1.0.0.css\">\n",
              "\n",
              "\n",
              "<div id=\"ldavis_el1231405413631153769863561292\"></div>\n",
              "<script type=\"text/javascript\">\n",
              "\n",
              "var ldavis_el1231405413631153769863561292_data = {\"mdsDat\": {\"x\": [-0.0, 0.0, 0.0], \"y\": [-0.0, -0.0, 0.0], \"topics\": [1, 2, 3], \"cluster\": [1, 1, 1], \"Freq\": [95.08335876464844, 2.4585514068603516, 2.458092451095581]}, \"tinfo\": {\"Category\": [\"Default\", \"Default\", \"Default\", \"Default\", \"Default\", \"Default\", \"Default\", \"Default\", \"Default\", \"Default\", \"Default\", \"Default\", \"Default\", \"Topic1\", \"Topic1\", \"Topic1\", \"Topic1\", \"Topic1\", \"Topic1\", \"Topic1\", \"Topic1\", \"Topic1\", \"Topic1\", \"Topic1\", \"Topic1\", \"Topic1\", \"Topic2\", \"Topic2\", \"Topic2\", \"Topic2\", \"Topic2\", \"Topic2\", \"Topic2\", \"Topic2\", \"Topic2\", \"Topic2\", \"Topic2\", \"Topic2\", \"Topic2\", \"Topic3\", \"Topic3\", \"Topic3\", \"Topic3\", \"Topic3\", \"Topic3\", \"Topic3\", \"Topic3\", \"Topic3\", \"Topic3\", \"Topic3\", \"Topic3\", \"Topic3\"], \"Freq\": [0.0, 0.0, 0.0, 0.0, 0.0, 1.0, 1.0, 1.0, 1.0, 1.0, 1.0, 1.0, 1.0, 0.9511367678642273, 0.9510575532913208, 0.9509402513504028, 0.9509345293045044, 0.9508894085884094, 0.9508637189865112, 0.9508615136146545, 0.9508532285690308, 0.9508198499679565, 0.9507825970649719, 0.9507086277008057, 0.9505518078804016, 0.9504337906837463, 0.024626383557915688, 0.024612536653876305, 0.024597886949777603, 0.024591675028204918, 0.024586526677012444, 0.024583714082837105, 0.02458234876394272, 0.02458150126039982, 0.024579530581831932, 0.024576054885983467, 0.024574173614382744, 0.024562694132328033, 0.024556605145335197, 0.024581072852015495, 0.024582810699939728, 0.024581342935562134, 0.024582043290138245, 0.024581296369433403, 0.024582039564847946, 0.02457997389137745, 0.024581151083111763, 0.024579597637057304, 0.02458128146827221, 0.024579979479312897, 0.02458072453737259, 0.024578671902418137], \"Term\": [\"33\", \"toy\", \"notch movie\", \"play\", \"movie\", \"4\", \"story 4\", \"Los Angeles\", \"story\", \"basketball\", \"notch\", \"play 33\", \"toy story\", \"toy story\", \"play 33\", \"notch\", \"basketball\", \"story\", \"Los Angeles\", \"story 4\", \"4\", \"movie\", \"play\", \"notch movie\", \"toy\", \"33\", \"33\", \"toy\", \"notch movie\", \"play\", \"movie\", \"Los Angeles\", \"4\", \"story 4\", \"story\", \"basketball\", \"notch\", \"play 33\", \"toy story\", \"33\", \"toy\", \"notch movie\", \"4\", \"movie\", \"story 4\", \"play\", \"story\", \"Los Angeles\", \"notch\", \"basketball\", \"play 33\", \"toy story\"], \"Total\": [0.0, 0.0, 0.0, 0.0, 0.0, 1.0, 1.0, 1.0, 1.0, 1.0, 1.0, 1.0, 1.0, 1.0002720355987549, 1.0002009868621826, 1.0000957250595093, 1.0000905990600586, 1.0000500679016113, 1.000027060508728, 1.0000250339508057, 1.0000176429748535, 0.9999876618385315, 0.9999542832374573, 0.9998878240585327, 0.9997471570968628, 0.9996412396430969, 0.9996412396430969, 0.9997471570968628, 0.9998878240585327, 0.9999542832374573, 0.9999876618385315, 1.000027060508728, 1.0000176429748535, 1.0000250339508057, 1.0000500679016113, 1.0000905990600586, 1.0000957250595093, 1.0002009868621826, 1.0002720355987549, 0.9996412396430969, 0.9997471570968628, 0.9998878240585327, 1.0000176429748535, 0.9999876618385315, 1.0000250339508057, 0.9999542832374573, 1.0000500679016113, 1.000027060508728, 1.0000957250595093, 1.0000905990600586, 1.0002009868621826, 1.0002720355987549], \"loglift\": [13.0, 12.0, 11.0, 10.0, 9.0, 8.0, 7.0, 6.0, 5.0, 4.0, 3.0, 2.0, 1.0, 0.0, 0.0, 0.0, 0.0, 0.0, 0.0, 0.0, 0.0, -0.0, -0.0, -0.0, -0.0, -9.999999747378752e-05, 0.0020000000949949026, 0.00139999995008111, 0.0006000000284984708, 0.0003000000142492354, 9.999999747378752e-05, -9.999999747378752e-05, -9.999999747378752e-05, -0.00019999999494757503, -0.0003000000142492354, -0.0005000000237487257, -0.0006000000284984708, -0.0010999999940395355, -0.00139999995008111, 0.00039999998989515007, 0.0003000000142492354, 9.999999747378752e-05, 0.0, 0.0, 0.0, 0.0, -0.0, -9.999999747378752e-05, -9.999999747378752e-05, -9.999999747378752e-05, -0.00019999999494757503, -0.00039999998989515007], \"logprob\": [13.0, 12.0, 11.0, 10.0, 9.0, 8.0, 7.0, 6.0, 5.0, 4.0, 3.0, 2.0, 1.0, -2.5645999908447266, -2.56469988822937, -2.5648000240325928, -2.5648000240325928, -2.5648999214172363, -2.5648999214172363, -2.5648999214172363, -2.5648999214172363, -2.565000057220459, -2.565000057220459, -2.5650999546051025, -2.565200090408325, -2.5653998851776123, -2.5632998943328857, -2.5638999938964844, -2.5643999576568604, -2.56469988822937, -2.5648999214172363, -2.565000057220459, -2.5650999546051025, -2.5650999546051025, -2.565200090408325, -2.5652999877929688, -2.5653998851776123, -2.5659000873565674, -2.5660998821258545, -2.5648999214172363, -2.5648999214172363, -2.5648999214172363, -2.5648999214172363, -2.5648999214172363, -2.5648999214172363, -2.565000057220459, -2.5648999214172363, -2.565000057220459, -2.5648999214172363, -2.565000057220459, -2.565000057220459, -2.565000057220459]}, \"token.table\": {\"Topic\": [1, 1, 1, 1, 1, 1, 1, 1, 1, 1, 1, 1, 1], \"Freq\": [1.0003589391708374, 0.9999823570251465, 0.999972939491272, 0.9999094009399414, 1.0000123977661133, 0.9999042749404907, 1.0001121759414673, 1.0000457763671875, 0.9997990727424622, 0.9999499320983887, 0.9999749660491943, 1.0002529621124268, 0.9997280240058899], \"Term\": [\"33\", \"4\", \"Los Angeles\", \"basketball\", \"movie\", \"notch\", \"notch movie\", \"play\", \"play 33\", \"story\", \"story 4\", \"toy\", \"toy story\"]}, \"R\": 13, \"lambda.step\": 0.01, \"plot.opts\": {\"xlab\": \"PC1\", \"ylab\": \"PC2\"}, \"topic.order\": [1, 2, 3]};\n",
              "\n",
              "function LDAvis_load_lib(url, callback){\n",
              "  var s = document.createElement('script');\n",
              "  s.src = url;\n",
              "  s.async = true;\n",
              "  s.onreadystatechange = s.onload = callback;\n",
              "  s.onerror = function(){console.warn(\"failed to load library \" + url);};\n",
              "  document.getElementsByTagName(\"head\")[0].appendChild(s);\n",
              "}\n",
              "\n",
              "if(typeof(LDAvis) !== \"undefined\"){\n",
              "   // already loaded: just create the visualization\n",
              "   !function(LDAvis){\n",
              "       new LDAvis(\"#\" + \"ldavis_el1231405413631153769863561292\", ldavis_el1231405413631153769863561292_data);\n",
              "   }(LDAvis);\n",
              "}else if(typeof define === \"function\" && define.amd){\n",
              "   // require.js is available: use it to load d3/LDAvis\n",
              "   require.config({paths: {d3: \"https://cdnjs.cloudflare.com/ajax/libs/d3/3.5.5/d3.min\"}});\n",
              "   require([\"d3\"], function(d3){\n",
              "      window.d3 = d3;\n",
              "      LDAvis_load_lib(\"https://cdn.rawgit.com/bmabey/pyLDAvis/files/ldavis.v1.0.0.js\", function(){\n",
              "        new LDAvis(\"#\" + \"ldavis_el1231405413631153769863561292\", ldavis_el1231405413631153769863561292_data);\n",
              "      });\n",
              "    });\n",
              "}else{\n",
              "    // require.js not available: dynamically load d3 & LDAvis\n",
              "    LDAvis_load_lib(\"https://cdnjs.cloudflare.com/ajax/libs/d3/3.5.5/d3.min.js\", function(){\n",
              "         LDAvis_load_lib(\"https://cdn.rawgit.com/bmabey/pyLDAvis/files/ldavis.v1.0.0.js\", function(){\n",
              "                 new LDAvis(\"#\" + \"ldavis_el1231405413631153769863561292\", ldavis_el1231405413631153769863561292_data);\n",
              "            })\n",
              "         });\n",
              "}\n",
              "</script>"
            ],
            "text/plain": [
              "PreparedData(topic_coordinates=         x    y  topics  cluster       Freq\n",
              "topic                                      \n",
              "0     -0.0 -0.0       1        1  95.083359\n",
              "1      0.0 -0.0       2        1   2.458551\n",
              "2      0.0  0.0       3        1   2.458092, topic_info=   Category      Freq         Term     Total  loglift  logprob\n",
              "0   Default  0.000000           33  0.000000  13.0000  13.0000\n",
              "11  Default  0.000000          toy  0.000000  12.0000  12.0000\n",
              "6   Default  0.000000  notch movie  0.000000  11.0000  11.0000\n",
              "7   Default  0.000000         play  0.000000  10.0000  10.0000\n",
              "4   Default  0.000000        movie  0.000000   9.0000   9.0000\n",
              "1   Default  1.000000            4  1.000000   8.0000   8.0000\n",
              "10  Default  1.000000      story 4  1.000000   7.0000   7.0000\n",
              "2   Default  1.000000  Los Angeles  1.000000   6.0000   6.0000\n",
              "9   Default  1.000000        story  1.000000   5.0000   5.0000\n",
              "3   Default  1.000000   basketball  1.000000   4.0000   4.0000\n",
              "5   Default  1.000000        notch  1.000000   3.0000   3.0000\n",
              "8   Default  1.000000      play 33  1.000000   2.0000   2.0000\n",
              "12  Default  1.000000    toy story  1.000000   1.0000   1.0000\n",
              "12   Topic1  0.951137    toy story  1.000272   0.0000  -2.5646\n",
              "8    Topic1  0.951058      play 33  1.000201   0.0000  -2.5647\n",
              "5    Topic1  0.950940        notch  1.000096   0.0000  -2.5648\n",
              "3    Topic1  0.950935   basketball  1.000091   0.0000  -2.5648\n",
              "9    Topic1  0.950889        story  1.000050   0.0000  -2.5649\n",
              "2    Topic1  0.950864  Los Angeles  1.000027   0.0000  -2.5649\n",
              "10   Topic1  0.950862      story 4  1.000025   0.0000  -2.5649\n",
              "1    Topic1  0.950853            4  1.000018   0.0000  -2.5649\n",
              "4    Topic1  0.950820        movie  0.999988  -0.0000  -2.5650\n",
              "7    Topic1  0.950783         play  0.999954  -0.0000  -2.5650\n",
              "6    Topic1  0.950709  notch movie  0.999888  -0.0000  -2.5651\n",
              "11   Topic1  0.950552          toy  0.999747  -0.0000  -2.5652\n",
              "0    Topic1  0.950434           33  0.999641  -0.0001  -2.5654\n",
              "0    Topic2  0.024626           33  0.999641   0.0020  -2.5633\n",
              "11   Topic2  0.024613          toy  0.999747   0.0014  -2.5639\n",
              "6    Topic2  0.024598  notch movie  0.999888   0.0006  -2.5644\n",
              "7    Topic2  0.024592         play  0.999954   0.0003  -2.5647\n",
              "4    Topic2  0.024587        movie  0.999988   0.0001  -2.5649\n",
              "2    Topic2  0.024584  Los Angeles  1.000027  -0.0001  -2.5650\n",
              "1    Topic2  0.024582            4  1.000018  -0.0001  -2.5651\n",
              "10   Topic2  0.024582      story 4  1.000025  -0.0002  -2.5651\n",
              "9    Topic2  0.024580        story  1.000050  -0.0003  -2.5652\n",
              "3    Topic2  0.024576   basketball  1.000091  -0.0005  -2.5653\n",
              "5    Topic2  0.024574        notch  1.000096  -0.0006  -2.5654\n",
              "8    Topic2  0.024563      play 33  1.000201  -0.0011  -2.5659\n",
              "12   Topic2  0.024557    toy story  1.000272  -0.0014  -2.5661\n",
              "0    Topic3  0.024581           33  0.999641   0.0004  -2.5649\n",
              "11   Topic3  0.024583          toy  0.999747   0.0003  -2.5649\n",
              "6    Topic3  0.024581  notch movie  0.999888   0.0001  -2.5649\n",
              "1    Topic3  0.024582            4  1.000018   0.0000  -2.5649\n",
              "4    Topic3  0.024581        movie  0.999988   0.0000  -2.5649\n",
              "10   Topic3  0.024582      story 4  1.000025   0.0000  -2.5649\n",
              "7    Topic3  0.024580         play  0.999954   0.0000  -2.5650\n",
              "9    Topic3  0.024581        story  1.000050  -0.0000  -2.5649\n",
              "2    Topic3  0.024580  Los Angeles  1.000027  -0.0001  -2.5650\n",
              "5    Topic3  0.024581        notch  1.000096  -0.0001  -2.5649\n",
              "3    Topic3  0.024580   basketball  1.000091  -0.0001  -2.5650\n",
              "8    Topic3  0.024581      play 33  1.000201  -0.0002  -2.5650\n",
              "12   Topic3  0.024579    toy story  1.000272  -0.0004  -2.5650, token_table=      Topic      Freq         Term\n",
              "term                              \n",
              "0         1  1.000359           33\n",
              "1         1  0.999982            4\n",
              "2         1  0.999973  Los Angeles\n",
              "3         1  0.999909   basketball\n",
              "4         1  1.000012        movie\n",
              "5         1  0.999904        notch\n",
              "6         1  1.000112  notch movie\n",
              "7         1  1.000046         play\n",
              "8         1  0.999799      play 33\n",
              "9         1  0.999950        story\n",
              "10        1  0.999975      story 4\n",
              "11        1  1.000253          toy\n",
              "12        1  0.999728    toy story, R=13, lambda_step=0.01, plot_opts={'xlab': 'PC1', 'ylab': 'PC2'}, topic_order=[1, 2, 3])"
            ]
          },
          "metadata": {
            "tags": []
          },
          "execution_count": 115
        }
      ]
    },
    {
      "cell_type": "code",
      "metadata": {
        "id": "nMvCan3prwnH",
        "colab_type": "code",
        "colab": {}
      },
      "source": [
        "# To Do: find the optimal topic number\n",
        "#My approach to finding the optimal number of topics is to build many LDA models with different values of number of topics (k) and pick the one that gives the highest coherence value.\n",
        "\n",
        "#Choosing a ‘k’ that marks the end of a rapid growth of topic coherence usually offers meaningful and interpretable topics. Picking an even higher value can sometimes provide more granular sub-topics.\n",
        "\n",
        "#If you see the same keywords being repeated in multiple topics, it’s probably a sign that the ‘k’ is too large.\n",
        "\n",
        "#The compute_coherence_values() (see below) trains multiple LDA models and provides the models and their corresponding coherence scores."
      ],
      "execution_count": 0,
      "outputs": []
    }
  ]
}