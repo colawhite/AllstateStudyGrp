{
 "cells": [
  {
   "cell_type": "code",
   "execution_count": 1,
   "metadata": {},
   "outputs": [],
   "source": [
    "# https://rdrr.io/cran/grf/man/grf.html\n",
    "# install.packages('grf')\n",
    "#install.packages('ATE')\n",
    "#install.packages(\"tidyverse\")"
   ]
  },
  {
   "cell_type": "code",
   "execution_count": 2,
   "metadata": {},
   "outputs": [],
   "source": [
    "library(grf)\n",
    "library(ATE)\n",
    "#library(tidyverse)"
   ]
  },
  {
   "cell_type": "code",
   "execution_count": 3,
   "metadata": {},
   "outputs": [],
   "source": [
    "size = 5000"
   ]
  },
  {
   "cell_type": "code",
   "execution_count": 4,
   "metadata": {},
   "outputs": [],
   "source": [
    "# Treatment\n",
    "set.seed(12)\n",
    "data <- runif(size)\n",
    "Treatment <- ifelse(data<0.5,0,1)\n",
    "Age <- round(data*100)\n",
    "b_Age <- ifelse(Age >=40 & Age <= 60, 1, 0)"
   ]
  },
  {
   "cell_type": "code",
   "execution_count": 5,
   "metadata": {},
   "outputs": [
    {
     "data": {
      "text/html": [
       "<table>\n",
       "<thead><tr><th></th><th scope=col>Estimate</th><th scope=col>Std. Error</th><th scope=col>t value</th><th scope=col>Pr(&gt;|t|)</th></tr></thead>\n",
       "<tbody>\n",
       "\t<tr><th scope=row>(Intercept)</th><td>0.0004104584 </td><td>0.001011389  </td><td> 0.4058365   </td><td> 6.848801e-01</td></tr>\n",
       "\t<tr><th scope=row>Treatment</th><td>0.0486458297 </td><td>0.001425198  </td><td>34.1326754   </td><td>1.018875e-229</td></tr>\n",
       "</tbody>\n",
       "</table>\n"
      ],
      "text/latex": [
       "\\begin{tabular}{r|llll}\n",
       "  & Estimate & Std. Error & t value & Pr(>\\textbar{}t\\textbar{})\\\\\n",
       "\\hline\n",
       "\t(Intercept) & 0.0004104584  & 0.001011389   &  0.4058365    &  6.848801e-01\\\\\n",
       "\tTreatment & 0.0486458297  & 0.001425198   & 34.1326754    & 1.018875e-229\\\\\n",
       "\\end{tabular}\n"
      ],
      "text/markdown": [
       "\n",
       "| <!--/--> | Estimate | Std. Error | t value | Pr(>|t|) |\n",
       "|---|---|---|---|---|\n",
       "| (Intercept) | 0.0004104584  | 0.001011389   |  0.4058365    |  6.848801e-01 |\n",
       "| Treatment | 0.0486458297  | 0.001425198   | 34.1326754    | 1.018875e-229 |\n",
       "\n"
      ],
      "text/plain": [
       "            Estimate     Std. Error  t value    Pr(>|t|)     \n",
       "(Intercept) 0.0004104584 0.001011389  0.4058365  6.848801e-01\n",
       "Treatment   0.0486458297 0.001425198 34.1326754 1.018875e-229"
      ]
     },
     "metadata": {},
     "output_type": "display_data"
    },
    {
     "data": {
      "text/plain": [
       "Call:\n",
       "ATE(Y = Y, Ti = Treatment, X = matrix(runif(size)), theta = 1)\n",
       "\n",
       "The analysis was completed for a simple study design with binary treatment.\n",
       "\n",
       "Point Estimates:\n",
       "    E[Y(1)]     E[Y(0)]         ATE \n",
       "0.049053362 0.000386705 0.048666657 "
      ]
     },
     "metadata": {},
     "output_type": "display_data"
    }
   ],
   "source": [
    "# Y ~ T, no confounding factor\n",
    "# effectsize = 0.05\n",
    "Y <- 0.05 * Treatment + 0.05 * rnorm(size)\n",
    "l1 <- lm(Y~Treatment)\n",
    "summary(l1)$coef\n",
    "ATE(Y, Treatment,matrix(runif(size)),theta=1)"
   ]
  },
  {
   "cell_type": "code",
   "execution_count": 6,
   "metadata": {},
   "outputs": [
    {
     "data": {
      "text/html": [
       "<table>\n",
       "<thead><tr><th></th><th scope=col>Estimate</th><th scope=col>Std. Error</th><th scope=col>t value</th><th scope=col>Pr(&gt;|t|)</th></tr></thead>\n",
       "<tbody>\n",
       "\t<tr><th scope=row>(Intercept)</th><td>-0.0003493102</td><td>0.001045143  </td><td>-0.3342224   </td><td>7.382258e-01 </td></tr>\n",
       "\t<tr><th scope=row>Treatment</th><td> 0.0118518249</td><td>0.001472763  </td><td> 8.0473399   </td><td>1.048426e-15 </td></tr>\n",
       "</tbody>\n",
       "</table>\n"
      ],
      "text/latex": [
       "\\begin{tabular}{r|llll}\n",
       "  & Estimate & Std. Error & t value & Pr(>\\textbar{}t\\textbar{})\\\\\n",
       "\\hline\n",
       "\t(Intercept) & -0.0003493102 & 0.001045143   & -0.3342224    & 7.382258e-01 \\\\\n",
       "\tTreatment &  0.0118518249 & 0.001472763   &  8.0473399    & 1.048426e-15 \\\\\n",
       "\\end{tabular}\n"
      ],
      "text/markdown": [
       "\n",
       "| <!--/--> | Estimate | Std. Error | t value | Pr(>|t|) |\n",
       "|---|---|---|---|---|\n",
       "| (Intercept) | -0.0003493102 | 0.001045143   | -0.3342224    | 7.382258e-01  |\n",
       "| Treatment |  0.0118518249 | 0.001472763   |  8.0473399    | 1.048426e-15  |\n",
       "\n"
      ],
      "text/plain": [
       "            Estimate      Std. Error  t value    Pr(>|t|)    \n",
       "(Intercept) -0.0003493102 0.001045143 -0.3342224 7.382258e-01\n",
       "Treatment    0.0118518249 0.001472763  8.0473399 1.048426e-15"
      ]
     },
     "metadata": {},
     "output_type": "display_data"
    },
    {
     "data": {
      "text/plain": [
       "Call:\n",
       "ATE(Y = Y, Ti = Treatment, X = matrix(0.05 * rnorm(size)), theta = 1)\n",
       "\n",
       "The analysis was completed for a simple study design with binary treatment.\n",
       "\n",
       "Point Estimates:\n",
       "      E[Y(1)]       E[Y(0)]           ATE \n",
       " 0.0114772047 -0.0003318944  0.0118090991 "
      ]
     },
     "metadata": {},
     "output_type": "display_data"
    }
   ],
   "source": [
    "# Y ~ T with HTE\n",
    "Y <- 0.05 * Treatment * b_Age + 0.05 * rnorm(size)\n",
    "l2 <- lm(Y ~ Treatment)\n",
    "summary(l2)$coef\n",
    "ATE(Y, Treatment,matrix(0.05 * rnorm(size)),theta=1)\n"
   ]
  },
  {
   "cell_type": "code",
   "execution_count": 7,
   "metadata": {},
   "outputs": [
    {
     "data": {
      "text/html": [
       "<table>\n",
       "<thead><tr><th></th><th scope=col>Estimate</th><th scope=col>Std. Error</th><th scope=col>t value</th><th scope=col>Pr(&gt;|t|)</th></tr></thead>\n",
       "<tbody>\n",
       "\t<tr><th scope=row>(Intercept)</th><td>0.0008562634 </td><td>0.0007430058 </td><td> 1.152432    </td><td> 2.491988e-01</td></tr>\n",
       "\t<tr><th scope=row>Treatment:b_Age</th><td>0.0494236182 </td><td>0.0022321445 </td><td>22.141765    </td><td>1.049937e-103</td></tr>\n",
       "</tbody>\n",
       "</table>\n"
      ],
      "text/latex": [
       "\\begin{tabular}{r|llll}\n",
       "  & Estimate & Std. Error & t value & Pr(>\\textbar{}t\\textbar{})\\\\\n",
       "\\hline\n",
       "\t(Intercept) & 0.0008562634  & 0.0007430058  &  1.152432     &  2.491988e-01\\\\\n",
       "\tTreatment:b\\_Age & 0.0494236182  & 0.0022321445  & 22.141765     & 1.049937e-103\\\\\n",
       "\\end{tabular}\n"
      ],
      "text/markdown": [
       "\n",
       "| <!--/--> | Estimate | Std. Error | t value | Pr(>|t|) |\n",
       "|---|---|---|---|---|\n",
       "| (Intercept) | 0.0008562634  | 0.0007430058  |  1.152432     |  2.491988e-01 |\n",
       "| Treatment:b_Age | 0.0494236182  | 0.0022321445  | 22.141765     | 1.049937e-103 |\n",
       "\n"
      ],
      "text/plain": [
       "                Estimate     Std. Error   t value   Pr(>|t|)     \n",
       "(Intercept)     0.0008562634 0.0007430058  1.152432  2.491988e-01\n",
       "Treatment:b_Age 0.0494236182 0.0022321445 22.141765 1.049937e-103"
      ]
     },
     "metadata": {},
     "output_type": "display_data"
    },
    {
     "data": {
      "text/plain": [
       "Call:\n",
       "ATE(Y = Y, Ti = Treatment, X = matrix(Age), theta = 1)\n",
       "\n",
       "The analysis was completed for a simple study design with binary treatment.\n",
       "\n",
       "Point Estimates:\n",
       "    E[Y(1)]     E[Y(0)]         ATE \n",
       "0.035753403 0.002004222 0.033749181 "
      ]
     },
     "metadata": {},
     "output_type": "display_data"
    }
   ],
   "source": [
    "Y <- 0.05 * Treatment * b_Age + 0.05 * rnorm(size)\n",
    "z <- \n",
    "l2 <- lm(Y ~ Treatment : b_Age)\n",
    "summary(l2)$coef\n",
    "ATE(Y, Treatment,matrix(Age),theta=1)"
   ]
  },
  {
   "cell_type": "code",
   "execution_count": 8,
   "metadata": {},
   "outputs": [],
   "source": [
    "cf <- causal_forest(\n",
    "  X = matrix(Age),\n",
    "  Y = Y,\n",
    "  W = Treatment,\n",
    "  num.trees = 5000,\n",
    "  seed = 1839\n",
    ")"
   ]
  },
  {
   "cell_type": "code",
   "execution_count": 9,
   "metadata": {},
   "outputs": [
    {
     "data": {
      "text/html": [
       "<dl class=dl-horizontal>\n",
       "\t<dt>estimate</dt>\n",
       "\t\t<dd>0.0560239677259274</dd>\n",
       "\t<dt>std.err</dt>\n",
       "\t\t<dd>0.0159440523285026</dd>\n",
       "</dl>\n"
      ],
      "text/latex": [
       "\\begin{description*}\n",
       "\\item[estimate] 0.0560239677259274\n",
       "\\item[std.err] 0.0159440523285026\n",
       "\\end{description*}\n"
      ],
      "text/markdown": [
       "estimate\n",
       ":   0.0560239677259274std.err\n",
       ":   0.0159440523285026\n",
       "\n"
      ],
      "text/plain": [
       "  estimate    std.err \n",
       "0.05602397 0.01594405 "
      ]
     },
     "metadata": {},
     "output_type": "display_data"
    }
   ],
   "source": [
    "average_treatment_effect(cf,target.sample = \"overlap\")"
   ]
  },
  {
   "cell_type": "code",
   "execution_count": null,
   "metadata": {},
   "outputs": [],
   "source": []
  }
 ],
 "metadata": {
  "kernelspec": {
   "display_name": "R",
   "language": "R",
   "name": "ir"
  },
  "language_info": {
   "codemirror_mode": "r",
   "file_extension": ".r",
   "mimetype": "text/x-r-source",
   "name": "R",
   "pygments_lexer": "r",
   "version": "3.6.1"
  }
 },
 "nbformat": 4,
 "nbformat_minor": 2
}
