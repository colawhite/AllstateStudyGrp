{
  "nbformat": 4,
  "nbformat_minor": 0,
  "metadata": {
    "colab": {
      "name": "model eval.ipynb",
      "provenance": [],
      "collapsed_sections": [],
      "authorship_tag": "ABX9TyO2VJOqKLfqfjIODY3GQy8I",
      "include_colab_link": true
    },
    "kernelspec": {
      "name": "python3",
      "display_name": "Python 3"
    }
  },
  "cells": [
    {
      "cell_type": "markdown",
      "metadata": {
        "id": "view-in-github",
        "colab_type": "text"
      },
      "source": [
        "<a href=\"https://colab.research.google.com/github/colawhite/AllstateStudyGrp/blob/master/model_eval.ipynb\" target=\"_parent\"><img src=\"https://colab.research.google.com/assets/colab-badge.svg\" alt=\"Open In Colab\"/></a>"
      ]
    },
    {
      "cell_type": "code",
      "metadata": {
        "id": "qIyw8z3IZYBd",
        "colab_type": "code",
        "colab": {}
      },
      "source": [
        "from sklearn.model_selection import GridSearchCV\n",
        "import xgboost as xgb\n",
        "from xgboost import XGBRegressor\n",
        "from sklearn.datasets import load_boston\n",
        "from sklearn.model_selection import train_test_split\n",
        "import numpy as np\n",
        "import pandas as pd"
      ],
      "execution_count": 3,
      "outputs": []
    },
    {
      "cell_type": "code",
      "metadata": {
        "id": "yM4vy_SPagSJ",
        "colab_type": "code",
        "colab": {
          "base_uri": "https://localhost:8080/",
          "height": 134
        },
        "outputId": "e3697e96-f310-4e73-e13d-15e7531be4ed"
      },
      "source": [
        "!pip install scikit-optimize"
      ],
      "execution_count": 4,
      "outputs": [
        {
          "output_type": "stream",
          "text": [
            "Requirement already satisfied: scikit-optimize in /usr/local/lib/python3.6/dist-packages (0.7.4)\n",
            "Requirement already satisfied: pyaml>=16.9 in /usr/local/lib/python3.6/dist-packages (from scikit-optimize) (20.4.0)\n",
            "Requirement already satisfied: scipy>=0.18.0 in /usr/local/lib/python3.6/dist-packages (from scikit-optimize) (1.4.1)\n",
            "Requirement already satisfied: scikit-learn>=0.19.1 in /usr/local/lib/python3.6/dist-packages (from scikit-optimize) (0.22.2.post1)\n",
            "Requirement already satisfied: joblib>=0.11 in /usr/local/lib/python3.6/dist-packages (from scikit-optimize) (0.16.0)\n",
            "Requirement already satisfied: numpy>=1.11.0 in /usr/local/lib/python3.6/dist-packages (from scikit-optimize) (1.18.5)\n",
            "Requirement already satisfied: PyYAML in /usr/local/lib/python3.6/dist-packages (from pyaml>=16.9->scikit-optimize) (3.13)\n"
          ],
          "name": "stdout"
        }
      ]
    },
    {
      "cell_type": "code",
      "metadata": {
        "id": "q7jkQKCNab0K",
        "colab_type": "code",
        "colab": {}
      },
      "source": [
        "import skopt\n",
        "from skopt import BayesSearchCV"
      ],
      "execution_count": 5,
      "outputs": []
    },
    {
      "cell_type": "code",
      "metadata": {
        "id": "P7bQCYLsbeZe",
        "colab_type": "code",
        "colab": {}
      },
      "source": [
        "boston = load_boston()\n",
        "X, Y, feature = boston.data, boston.target,boston.feature_names\n",
        "X_train, X_test, y_train, y_test = train_test_split(X, Y, test_size=0.33, random_state=7)\n",
        "X_train = pd.DataFrame(X_train)\n",
        "X_train.columns = feature\n",
        "X_test = pd.DataFrame(X_test)\n",
        "X_test.columns = feature"
      ],
      "execution_count": 6,
      "outputs": []
    },
    {
      "cell_type": "code",
      "metadata": {
        "id": "GSiYTJNysGZd",
        "colab_type": "code",
        "colab": {}
      },
      "source": [
        "reg = xgb.XGBRegressor(\n",
        "        n_jobs = 1,\n",
        "        objective = 'reg:squarederror',\n",
        "        eval_metric = 'rmse',\n",
        "        silent=1,\n",
        "        random_state=123,\n",
        "        tree_method='approx',\n",
        "    )"
      ],
      "execution_count": 20,
      "outputs": []
    },
    {
      "cell_type": "code",
      "metadata": {
        "id": "gQnD5EPNxxhg",
        "colab_type": "code",
        "colab": {}
      },
      "source": [
        "fit_params={\"early_stopping_rounds\":25, \n",
        "            \"verbose\":0,\n",
        "            \"eval_set\" : [[X_train,y_train],[X_test, y_test]]}"
      ],
      "execution_count": 21,
      "outputs": []
    },
    {
      "cell_type": "code",
      "metadata": {
        "id": "rnz-7swtrshF",
        "colab_type": "code",
        "colab": {}
      },
      "source": [
        "bayes_cv_tuner = BayesSearchCV(\n",
        "    reg,\n",
        "    search_spaces = {\n",
        "        'n_estimators': (1,10)\n",
        "    },\n",
        "    n_iter = 5,\n",
        "    scoring='explained_variance',\n",
        "    random_state = 456,\n",
        "    fit_params=fit_params)"
      ],
      "execution_count": 31,
      "outputs": []
    },
    {
      "cell_type": "code",
      "metadata": {
        "id": "WDIuBIFhsOTS",
        "colab_type": "code",
        "colab": {}
      },
      "source": [
        "grid_cv_tuner = GridSearchCV(\n",
        "    reg,\n",
        "    param_grid = {\n",
        "        'n_estimators':[1,5,10],\n",
        "        'random_state':[456]\n",
        "    },\n",
        "    scoring='neg_mean_squared_error',\n",
        ")"
      ],
      "execution_count": 32,
      "outputs": []
    },
    {
      "cell_type": "code",
      "metadata": {
        "id": "1TInosn7slgF",
        "colab_type": "code",
        "colab": {}
      },
      "source": [
        "bayes_results = bayes_cv_tuner.fit(X_train,y_train)\n",
        "grid_results = grid_cv_tuner.fit(X_train,y_train, **fit_params)"
      ],
      "execution_count": 33,
      "outputs": []
    },
    {
      "cell_type": "code",
      "metadata": {
        "id": "9re0rGp1syii",
        "colab_type": "code",
        "colab": {
          "base_uri": "https://localhost:8080/",
          "height": 151
        },
        "outputId": "a37df363-cc71-4771-98b7-57d031617ef9"
      },
      "source": [
        "bayes_results.best_estimator_"
      ],
      "execution_count": 35,
      "outputs": [
        {
          "output_type": "execute_result",
          "data": {
            "text/plain": [
              "XGBRegressor(base_score=0.5, booster='gbtree', colsample_bylevel=1,\n",
              "             colsample_bynode=1, colsample_bytree=1, eval_metric='rmse',\n",
              "             gamma=0, importance_type='gain', learning_rate=0.1,\n",
              "             max_delta_step=0, max_depth=3, min_child_weight=1, missing=None,\n",
              "             n_estimators=9, n_jobs=1, nthread=None,\n",
              "             objective='reg:squarederror', random_state=123, reg_alpha=0,\n",
              "             reg_lambda=1, scale_pos_weight=1, seed=None, silent=1, subsample=1,\n",
              "             tree_method='approx', verbosity=1)"
            ]
          },
          "metadata": {
            "tags": []
          },
          "execution_count": 35
        }
      ]
    },
    {
      "cell_type": "code",
      "metadata": {
        "id": "ZUgVmDzitQ67",
        "colab_type": "code",
        "colab": {
          "base_uri": "https://localhost:8080/",
          "height": 151
        },
        "outputId": "e2477631-19a2-452a-8098-94e0989784f6"
      },
      "source": [
        "grid_results.best_estimator_"
      ],
      "execution_count": 34,
      "outputs": [
        {
          "output_type": "execute_result",
          "data": {
            "text/plain": [
              "XGBRegressor(base_score=0.5, booster='gbtree', colsample_bylevel=1,\n",
              "             colsample_bynode=1, colsample_bytree=1, eval_metric='rmse',\n",
              "             gamma=0, importance_type='gain', learning_rate=0.1,\n",
              "             max_delta_step=0, max_depth=3, min_child_weight=1, missing=None,\n",
              "             n_estimators=10, n_jobs=1, nthread=None,\n",
              "             objective='reg:squarederror', random_state=456, reg_alpha=0,\n",
              "             reg_lambda=1, scale_pos_weight=1, seed=None, silent=1, subsample=1,\n",
              "             tree_method='approx', verbosity=1)"
            ]
          },
          "metadata": {
            "tags": []
          },
          "execution_count": 34
        }
      ]
    },
    {
      "cell_type": "code",
      "metadata": {
        "id": "HYAAgpSbpC3f",
        "colab_type": "code",
        "colab": {
          "base_uri": "https://localhost:8080/",
          "height": 77
        },
        "outputId": "a8ac1983-4575-4909-c6f9-323937dc1589"
      },
      "source": [
        "pd.DataFrame(grid_results.best_estimator_.evals_result()).head()"
      ],
      "execution_count": 15,
      "outputs": [
        {
          "output_type": "execute_result",
          "data": {
            "text/html": [
              "<div>\n",
              "<style scoped>\n",
              "    .dataframe tbody tr th:only-of-type {\n",
              "        vertical-align: middle;\n",
              "    }\n",
              "\n",
              "    .dataframe tbody tr th {\n",
              "        vertical-align: top;\n",
              "    }\n",
              "\n",
              "    .dataframe thead th {\n",
              "        text-align: right;\n",
              "    }\n",
              "</style>\n",
              "<table border=\"1\" class=\"dataframe\">\n",
              "  <thead>\n",
              "    <tr style=\"text-align: right;\">\n",
              "      <th></th>\n",
              "      <th>validation_0</th>\n",
              "      <th>validation_1</th>\n",
              "    </tr>\n",
              "  </thead>\n",
              "  <tbody>\n",
              "    <tr>\n",
              "      <th>rmse</th>\n",
              "      <td>[21.788282, 19.743141, 17.904982, 16.253366, 1...</td>\n",
              "      <td>[21.25984, 19.265194, 17.487741, 15.877626, 14...</td>\n",
              "    </tr>\n",
              "  </tbody>\n",
              "</table>\n",
              "</div>"
            ],
            "text/plain": [
              "                                           validation_0                                       validation_1\n",
              "rmse  [21.788282, 19.743141, 17.904982, 16.253366, 1...  [21.25984, 19.265194, 17.487741, 15.877626, 14..."
            ]
          },
          "metadata": {
            "tags": []
          },
          "execution_count": 15
        }
      ]
    },
    {
      "cell_type": "code",
      "metadata": {
        "id": "6924RMP4rsTQ",
        "colab_type": "code",
        "colab": {}
      },
      "source": [
        "regx = xgb.XGBRegressor(\n",
        "        n_jobs = 1,\n",
        "        n_estimators = 10,\n",
        "        objective = 'reg:gamma',\n",
        "        eval_metric = 'rmse',\n",
        "        silent=1,\n",
        "        random_state=123,\n",
        "        tree_method='approx',\n",
        "    )"
      ],
      "execution_count": 64,
      "outputs": []
    },
    {
      "cell_type": "code",
      "metadata": {
        "id": "t5bNyK-RrsWu",
        "colab_type": "code",
        "colab": {}
      },
      "source": [
        "fit_params={\"early_stopping_rounds\":1, \n",
        "            \"verbose\":0,\n",
        "            \"eval_set\" : [(X_train,y_train),(X_test, y_test)]}\n",
        "regx = regx.fit(X_train,y_train,**fit_params)"
      ],
      "execution_count": 65,
      "outputs": []
    },
    {
      "cell_type": "code",
      "metadata": {
        "id": "sjsu6-iwrsaw",
        "colab_type": "code",
        "colab": {
          "base_uri": "https://localhost:8080/",
          "height": 34
        },
        "outputId": "e54d03ec-b425-40a7-d015-7e794dd43d3d"
      },
      "source": [
        "regx.evals_result()['validation_0']['rmse'][-3:]"
      ],
      "execution_count": 66,
      "outputs": [
        {
          "output_type": "execute_result",
          "data": {
            "text/plain": [
              "[23.523346, 23.42408, 23.315548]"
            ]
          },
          "metadata": {
            "tags": []
          },
          "execution_count": 66
        }
      ]
    },
    {
      "cell_type": "code",
      "metadata": {
        "id": "PeVW4cKOrsex",
        "colab_type": "code",
        "colab": {
          "base_uri": "https://localhost:8080/",
          "height": 34
        },
        "outputId": "a5f8fc92-bae9-4905-985a-703bde956d94"
      },
      "source": [
        "regx.evals_result()['validation_1']['rmse'][-3:]"
      ],
      "execution_count": 67,
      "outputs": [
        {
          "output_type": "execute_result",
          "data": {
            "text/plain": [
              "[22.942204, 22.841974, 22.732164]"
            ]
          },
          "metadata": {
            "tags": []
          },
          "execution_count": 67
        }
      ]
    },
    {
      "cell_type": "code",
      "metadata": {
        "id": "jaGe_cKyriRa",
        "colab_type": "code",
        "colab": {
          "base_uri": "https://localhost:8080/",
          "height": 34
        },
        "outputId": "612d437e-b8a1-40d7-9d68-3f795733ea31"
      },
      "source": [
        "grid_results.best_estimator_.evals_result()['validation_0']['rmse'][-3:]"
      ],
      "execution_count": 48,
      "outputs": [
        {
          "output_type": "execute_result",
          "data": {
            "text/plain": [
              "[11.148124, 10.178438, 9.307384]"
            ]
          },
          "metadata": {
            "tags": []
          },
          "execution_count": 48
        }
      ]
    },
    {
      "cell_type": "code",
      "metadata": {
        "id": "5kF1xlAtncbe",
        "colab_type": "code",
        "colab": {
          "base_uri": "https://localhost:8080/",
          "height": 34
        },
        "outputId": "a73ae2e7-2133-41e3-b335-137b168f7ce1"
      },
      "source": [
        "grid_results.best_estimator_.evals_result()['validation_1']['rmse'][-3:]"
      ],
      "execution_count": 49,
      "outputs": [
        {
          "output_type": "execute_result",
          "data": {
            "text/plain": [
              "[10.955668, 10.026828, 9.22725]"
            ]
          },
          "metadata": {
            "tags": []
          },
          "execution_count": 49
        }
      ]
    },
    {
      "cell_type": "code",
      "metadata": {
        "id": "hwPpJYdTnmko",
        "colab_type": "code",
        "colab": {
          "base_uri": "https://localhost:8080/",
          "height": 34
        },
        "outputId": "258217a8-92c4-451f-fbd3-a30b015af917"
      },
      "source": [
        "bayes_results.best_estimator_.evals_result()['validation_0']['rmse'][-3:]"
      ],
      "execution_count": 46,
      "outputs": [
        {
          "output_type": "execute_result",
          "data": {
            "text/plain": [
              "[11.969361, 10.955668, 10.026828]"
            ]
          },
          "metadata": {
            "tags": []
          },
          "execution_count": 46
        }
      ]
    },
    {
      "cell_type": "code",
      "metadata": {
        "id": "zRR8AC4brPLi",
        "colab_type": "code",
        "colab": {
          "base_uri": "https://localhost:8080/",
          "height": 34
        },
        "outputId": "91485ec6-f0e5-4d5e-cb00-9d1b62af3e41"
      },
      "source": [
        "bayes_results.best_estimator_.evals_result()['validation_1']['rmse'][-3:]"
      ],
      "execution_count": 47,
      "outputs": [
        {
          "output_type": "execute_result",
          "data": {
            "text/plain": [
              "[11.969361, 10.955668, 10.026828]"
            ]
          },
          "metadata": {
            "tags": []
          },
          "execution_count": 47
        }
      ]
    },
    {
      "cell_type": "code",
      "metadata": {
        "id": "Y96PeR1vmzC2",
        "colab_type": "code",
        "colab": {
          "base_uri": "https://localhost:8080/",
          "height": 336
        },
        "outputId": "b94d39d6-03d9-4b8b-ae95-3fd47939b6f3"
      },
      "source": [
        "import matplotlib.pyplot as plt\n",
        "from matplotlib import pyplot\n",
        "grids = grid_results.best_estimator_.evals_result()\n",
        "bayes = bayes_results.best_estimator_.evals_result()\n",
        "\n",
        "epochs = len(grids['validation_0']['rmse'])\n",
        "x_axis = range(0, epochs)\n",
        "\n",
        "# plot log loss\n",
        "fig, ax = pyplot.subplots(figsize=(5,5))\n",
        "ax.plot(x_axis[:9], grids['validation_0']['rmse'][:9], label='Grid Train')\n",
        "ax.plot(x_axis[:9], grids['validation_1']['rmse'][:9], label='Grid Test')\n",
        "ax.plot(x_axis[:9], bayes['validation_0']['rmse'][:9], label='Bayes Train')\n",
        "ax.plot(x_axis[:9], bayes['validation_1']['rmse'][:9], label='Bayes Test')\n",
        "#ax.plot(x_axis, results['validation_1']['logloss'], label='Test')\n",
        "ax.legend()\n",
        "pyplot.ylabel('Log Loss')\n",
        "pyplot.title('XGBoost Log Loss')\n",
        "pyplot.show()\n"
      ],
      "execution_count": 45,
      "outputs": [
        {
          "output_type": "display_data",
          "data": {
            "image/png": "[encoded data removed]",
            "text/plain": [
              "<Figure size 360x360 with 1 Axes>"
            ]
          },
          "metadata": {
            "tags": [],
            "needs_background": "light"
          }
        }
      ]
    },
    {
      "cell_type": "code",
      "metadata": {
        "id": "USrqOJfAmiv8",
        "colab_type": "code",
        "colab": {
          "base_uri": "https://localhost:8080/",
          "height": 1000
        },
        "outputId": "aea8e583-6f55-4cfd-cf94-38609b868cb4"
      },
      "source": [
        ""
      ],
      "execution_count": 114,
      "outputs": [
        {
          "output_type": "execute_result",
          "data": {
            "text/plain": [
              "{'validation_0': {'rmse': [21.25984,\n",
              "   19.265194,\n",
              "   17.487741,\n",
              "   15.877626,\n",
              "   14.447087,\n",
              "   13.137541,\n",
              "   11.969361,\n",
              "   10.955668,\n",
              "   10.026828,\n",
              "   9.22725,\n",
              "   8.476295,\n",
              "   7.84398,\n",
              "   7.277647,\n",
              "   6.771502,\n",
              "   6.317042,\n",
              "   5.908906,\n",
              "   5.561435,\n",
              "   5.282437,\n",
              "   5.046112,\n",
              "   4.798521,\n",
              "   4.595921,\n",
              "   4.44015,\n",
              "   4.300373,\n",
              "   4.135522,\n",
              "   4.019499,\n",
              "   3.924052,\n",
              "   3.854388,\n",
              "   3.806644,\n",
              "   3.766329,\n",
              "   3.670498,\n",
              "   3.633506,\n",
              "   3.555486,\n",
              "   3.512729,\n",
              "   3.451569,\n",
              "   3.431915,\n",
              "   3.411958,\n",
              "   3.402566,\n",
              "   3.390428,\n",
              "   3.377381,\n",
              "   3.365988,\n",
              "   3.352717,\n",
              "   3.339757,\n",
              "   3.325475,\n",
              "   3.320718,\n",
              "   3.311262,\n",
              "   3.300411,\n",
              "   3.272575,\n",
              "   3.263335,\n",
              "   3.258413,\n",
              "   3.250991,\n",
              "   3.240807,\n",
              "   3.230006,\n",
              "   3.22301,\n",
              "   3.220562,\n",
              "   3.208307,\n",
              "   3.205546,\n",
              "   3.188334,\n",
              "   3.173725,\n",
              "   3.166145,\n",
              "   3.163427,\n",
              "   3.146179,\n",
              "   3.140741,\n",
              "   3.127241,\n",
              "   3.125607,\n",
              "   3.113947,\n",
              "   3.107767,\n",
              "   3.104795,\n",
              "   3.100835,\n",
              "   3.097001,\n",
              "   3.082849,\n",
              "   3.080607,\n",
              "   3.085101,\n",
              "   3.080043,\n",
              "   3.072639,\n",
              "   3.069884,\n",
              "   3.069365,\n",
              "   3.068951,\n",
              "   3.060599,\n",
              "   3.056428,\n",
              "   3.054086,\n",
              "   3.050718,\n",
              "   3.045507,\n",
              "   3.041252,\n",
              "   3.031548,\n",
              "   3.027913,\n",
              "   3.026357,\n",
              "   3.02331,\n",
              "   3.019377,\n",
              "   3.014469,\n",
              "   3.008369,\n",
              "   3.006712,\n",
              "   3.003194,\n",
              "   2.996777,\n",
              "   3.000643,\n",
              "   2.997374,\n",
              "   2.996005,\n",
              "   2.994335,\n",
              "   2.991331,\n",
              "   2.989573,\n",
              "   2.985357,\n",
              "   2.983123,\n",
              "   2.977622,\n",
              "   2.974374,\n",
              "   2.971044,\n",
              "   2.974268,\n",
              "   2.966996,\n",
              "   2.961877,\n",
              "   2.959489,\n",
              "   2.958286,\n",
              "   2.958324,\n",
              "   2.955997,\n",
              "   2.959031,\n",
              "   2.959463,\n",
              "   2.95844,\n",
              "   2.956078,\n",
              "   2.949407,\n",
              "   2.949051,\n",
              "   2.94346,\n",
              "   2.944184,\n",
              "   2.941925,\n",
              "   2.939927,\n",
              "   2.940038,\n",
              "   2.939233,\n",
              "   2.943977,\n",
              "   2.941927,\n",
              "   2.940469,\n",
              "   2.940509,\n",
              "   2.94299,\n",
              "   2.937485,\n",
              "   2.948251,\n",
              "   2.947792,\n",
              "   2.945189,\n",
              "   2.945085,\n",
              "   2.945048,\n",
              "   2.943402,\n",
              "   2.948052,\n",
              "   2.947948,\n",
              "   2.950047,\n",
              "   2.949962,\n",
              "   2.94818,\n",
              "   2.944793,\n",
              "   2.942013,\n",
              "   2.942336,\n",
              "   2.939037,\n",
              "   2.940931,\n",
              "   2.941212,\n",
              "   2.938157,\n",
              "   2.938652,\n",
              "   2.936357,\n",
              "   2.938198,\n",
              "   2.940601,\n",
              "   2.942767,\n",
              "   2.944845,\n",
              "   2.942473,\n",
              "   2.94086,\n",
              "   2.941934,\n",
              "   2.939615,\n",
              "   2.934297,\n",
              "   2.935839,\n",
              "   2.938009,\n",
              "   2.937904,\n",
              "   2.936823,\n",
              "   2.936069,\n",
              "   2.938002,\n",
              "   2.938042,\n",
              "   2.938977,\n",
              "   2.937062,\n",
              "   2.935339,\n",
              "   2.932124,\n",
              "   2.935217,\n",
              "   2.933568,\n",
              "   2.930553,\n",
              "   2.929153,\n",
              "   2.927275,\n",
              "   2.924085,\n",
              "   2.923233,\n",
              "   2.924562,\n",
              "   2.927056,\n",
              "   2.9263,\n",
              "   2.924147,\n",
              "   2.925117,\n",
              "   2.925215,\n",
              "   2.92515,\n",
              "   2.924626,\n",
              "   2.923646,\n",
              "   2.921703,\n",
              "   2.919835,\n",
              "   2.918887,\n",
              "   2.918752,\n",
              "   2.919347,\n",
              "   2.917762,\n",
              "   2.916778,\n",
              "   2.916295,\n",
              "   2.916755,\n",
              "   2.920242,\n",
              "   2.921353,\n",
              "   2.922361,\n",
              "   2.92319,\n",
              "   2.922274,\n",
              "   2.922923,\n",
              "   2.923071,\n",
              "   2.924007,\n",
              "   2.923857,\n",
              "   2.924881,\n",
              "   2.924735,\n",
              "   2.925263,\n",
              "   2.923847,\n",
              "   2.924218,\n",
              "   2.923026,\n",
              "   2.922723,\n",
              "   2.921145,\n",
              "   2.920349,\n",
              "   2.921942,\n",
              "   2.920677,\n",
              "   2.918681,\n",
              "   2.917323,\n",
              "   2.91597,\n",
              "   2.916089,\n",
              "   2.915594,\n",
              "   2.914694,\n",
              "   2.913966,\n",
              "   2.913598,\n",
              "   2.913004,\n",
              "   2.913635,\n",
              "   2.914338,\n",
              "   2.913636,\n",
              "   2.91259,\n",
              "   2.912843,\n",
              "   2.912614,\n",
              "   2.91234,\n",
              "   2.911897,\n",
              "   2.912513,\n",
              "   2.912192,\n",
              "   2.913611,\n",
              "   2.913522,\n",
              "   2.912589,\n",
              "   2.912633,\n",
              "   2.911234,\n",
              "   2.911385,\n",
              "   2.911528,\n",
              "   2.912691,\n",
              "   2.911768,\n",
              "   2.911545,\n",
              "   2.912893,\n",
              "   2.912229,\n",
              "   2.91249,\n",
              "   2.91224,\n",
              "   2.91134,\n",
              "   2.911631,\n",
              "   2.911689,\n",
              "   2.911688,\n",
              "   2.910007,\n",
              "   2.910176,\n",
              "   2.909536,\n",
              "   2.909819,\n",
              "   2.91072,\n",
              "   2.910266,\n",
              "   2.911039,\n",
              "   2.912017,\n",
              "   2.911509,\n",
              "   2.910555,\n",
              "   2.910817,\n",
              "   2.91033,\n",
              "   2.911153,\n",
              "   2.911305,\n",
              "   2.911612,\n",
              "   2.91202,\n",
              "   2.91283,\n",
              "   2.913536,\n",
              "   2.913174,\n",
              "   2.91304,\n",
              "   2.912517,\n",
              "   2.912165,\n",
              "   2.911571,\n",
              "   2.912441,\n",
              "   2.91297,\n",
              "   2.913156,\n",
              "   2.913526]}}"
            ]
          },
          "metadata": {
            "tags": []
          },
          "execution_count": 114
        }
      ]
    },
    {
      "cell_type": "code",
      "metadata": {
        "id": "bVTdMq4ktxCq",
        "colab_type": "code",
        "colab": {
          "base_uri": "https://localhost:8080/",
          "height": 281
        },
        "outputId": "dffd77c1-6df8-4b6b-8625-8c5485ca2cee"
      },
      "source": [
        "from matplotlib import pyplot\n",
        "fig, ax = pyplot.subplots()\n",
        "x_axis = range(0, 30)\n",
        "bayes_score = [-x for x in bayes_results.cv_results_['mean_test_score']]\n",
        "grid_score = [-x for x in grid_results.cv_results_['mean_test_score']]\n",
        "ax.plot(x_axis, bayes_score, label='Bayes')\n",
        "ax.plot(x_axis[:3], grid_score, label='Grid')\n",
        "ax.legend()\n",
        "pyplot.ylabel('Regression Error')\n",
        "pyplot.title('XGBoost Regression Error')\n",
        "pyplot.show()"
      ],
      "execution_count": 17,
      "outputs": [
        {
          "output_type": "display_data",
          "data": {
            "image/png": "[encoded data removed]",
            "text/plain": [
              "<Figure size 432x288 with 1 Axes>"
            ]
          },
          "metadata": {
            "tags": [],
            "needs_background": "light"
          }
        }
      ]
    },
    {
      "cell_type": "code",
      "metadata": {
        "id": "ajwjaD36Wzo4",
        "colab_type": "code",
        "colab": {}
      },
      "source": [
        "from sklearn.inspection import plot_partial_dependence"
      ],
      "execution_count": 77,
      "outputs": []
    },
    {
      "cell_type": "code",
      "metadata": {
        "id": "pR_mEfvUhnMG",
        "colab_type": "code",
        "colab": {
          "base_uri": "https://localhost:8080/",
          "height": 296
        },
        "outputId": "cd40ff55-01b3-4178-fc97-9fa850b62c0b"
      },
      "source": [
        "plot_partial_dependence(grid_results.best_estimator_, X_train, features=[0,1,2], feature_names=feature[:3]) "
      ],
      "execution_count": 104,
      "outputs": [
        {
          "output_type": "execute_result",
          "data": {
            "text/plain": [
              "<sklearn.inspection._partial_dependence.PartialDependenceDisplay at 0x7f1211381cf8>"
            ]
          },
          "metadata": {
            "tags": []
          },
          "execution_count": 104
        },
        {
          "output_type": "display_data",
          "data": {
            "image/png": "[encoded data removed]",
            "text/plain": [
              "<Figure size 432x288 with 4 Axes>"
            ]
          },
          "metadata": {
            "tags": [],
            "needs_background": "light"
          }
        }
      ]
    },
    {
      "cell_type": "code",
      "metadata": {
        "id": "xgAZjVm1iFJF",
        "colab_type": "code",
        "colab": {
          "base_uri": "https://localhost:8080/",
          "height": 326
        },
        "outputId": "f360b0fd-4d99-4e8a-d7a9-8159a0274f90"
      },
      "source": [
        "plot_partial_dependence(bayes_results.best_estimator_, X_train, feature) "
      ],
      "execution_count": 95,
      "outputs": [
        {
          "output_type": "execute_result",
          "data": {
            "text/plain": [
              "<sklearn.inspection._partial_dependence.PartialDependenceDisplay at 0x7f1211bb2828>"
            ]
          },
          "metadata": {
            "tags": []
          },
          "execution_count": 95
        },
        {
          "output_type": "display_data",
          "data": {
            "image/png": "[encoded data removed]",
            "text/plain": [
              "<Figure size 432x288 with 14 Axes>"
            ]
          },
          "metadata": {
            "tags": [],
            "needs_background": "light"
          }
        }
      ]
    },
    {
      "cell_type": "code",
      "metadata": {
        "id": "7almGM2xlLXA",
        "colab_type": "code",
        "colab": {
          "base_uri": "https://localhost:8080/",
          "height": 336
        },
        "outputId": "307420d4-455e-4769-880e-edc334854968"
      },
      "source": [
        "!pip install shap"
      ],
      "execution_count": 106,
      "outputs": [
        {
          "output_type": "stream",
          "text": [
            "Collecting shap\n",
            "\u001b[?25l  Downloading https://files.pythonhosted.org/packages/a8/77/b504e43e21a2ba543a1ac4696718beb500cfa708af2fb57cb54ce299045c/shap-0.35.0.tar.gz (273kB)\n",
            "\r\u001b[K     |█▏                              | 10kB 17.9MB/s eta 0:00:01\r\u001b[K     |██▍                             | 20kB 1.7MB/s eta 0:00:01\r\u001b[K     |███▋                            | 30kB 2.2MB/s eta 0:00:01\r\u001b[K     |████▉                           | 40kB 2.5MB/s eta 0:00:01\r\u001b[K     |██████                          | 51kB 2.0MB/s eta 0:00:01\r\u001b[K     |███████▏                        | 61kB 2.3MB/s eta 0:00:01\r\u001b[K     |████████▍                       | 71kB 2.5MB/s eta 0:00:01\r\u001b[K     |█████████▋                      | 81kB 2.7MB/s eta 0:00:01\r\u001b[K     |██████████▉                     | 92kB 2.9MB/s eta 0:00:01\r\u001b[K     |████████████                    | 102kB 2.8MB/s eta 0:00:01\r\u001b[K     |█████████████▏                  | 112kB 2.8MB/s eta 0:00:01\r\u001b[K     |██████████████▍                 | 122kB 2.8MB/s eta 0:00:01\r\u001b[K     |███████████████▋                | 133kB 2.8MB/s eta 0:00:01\r\u001b[K     |████████████████▉               | 143kB 2.8MB/s eta 0:00:01\r\u001b[K     |██████████████████              | 153kB 2.8MB/s eta 0:00:01\r\u001b[K     |███████████████████▏            | 163kB 2.8MB/s eta 0:00:01\r\u001b[K     |████████████████████▍           | 174kB 2.8MB/s eta 0:00:01\r\u001b[K     |█████████████████████▋          | 184kB 2.8MB/s eta 0:00:01\r\u001b[K     |██████████████████████▉         | 194kB 2.8MB/s eta 0:00:01\r\u001b[K     |████████████████████████        | 204kB 2.8MB/s eta 0:00:01\r\u001b[K     |█████████████████████████▏      | 215kB 2.8MB/s eta 0:00:01\r\u001b[K     |██████████████████████████▍     | 225kB 2.8MB/s eta 0:00:01\r\u001b[K     |███████████████████████████▋    | 235kB 2.8MB/s eta 0:00:01\r\u001b[K     |████████████████████████████▉   | 245kB 2.8MB/s eta 0:00:01\r\u001b[K     |██████████████████████████████  | 256kB 2.8MB/s eta 0:00:01\r\u001b[K     |███████████████████████████████▏| 266kB 2.8MB/s eta 0:00:01\r\u001b[K     |████████████████████████████████| 276kB 2.8MB/s \n",
            "\u001b[?25hRequirement already satisfied: numpy in /usr/local/lib/python3.6/dist-packages (from shap) (1.18.5)\n",
            "Requirement already satisfied: scipy in /usr/local/lib/python3.6/dist-packages (from shap) (1.4.1)\n",
            "Requirement already satisfied: scikit-learn in /usr/local/lib/python3.6/dist-packages (from shap) (0.22.2.post1)\n",
            "Requirement already satisfied: pandas in /usr/local/lib/python3.6/dist-packages (from shap) (1.0.5)\n",
            "Requirement already satisfied: tqdm>4.25.0 in /usr/local/lib/python3.6/dist-packages (from shap) (4.41.1)\n",
            "Requirement already satisfied: joblib>=0.11 in /usr/local/lib/python3.6/dist-packages (from scikit-learn->shap) (0.16.0)\n",
            "Requirement already satisfied: pytz>=2017.2 in /usr/local/lib/python3.6/dist-packages (from pandas->shap) (2018.9)\n",
            "Requirement already satisfied: python-dateutil>=2.6.1 in /usr/local/lib/python3.6/dist-packages (from pandas->shap) (2.8.1)\n",
            "Requirement already satisfied: six>=1.5 in /usr/local/lib/python3.6/dist-packages (from python-dateutil>=2.6.1->pandas->shap) (1.12.0)\n",
            "Building wheels for collected packages: shap\n",
            "  Building wheel for shap (setup.py) ... \u001b[?25l\u001b[?25hdone\n",
            "  Created wheel for shap: filename=shap-0.35.0-cp36-cp36m-linux_x86_64.whl size=394111 sha256=cc96b86a23a2b8cab14da89db2394d0f17ccd7e62fc1f58cf92dba7c02287c5a\n",
            "  Stored in directory: /root/.cache/pip/wheels/e7/f7/0f/b57055080cf8894906b3bd3616d2fc2bfd0b12d5161bcb24ac\n",
            "Successfully built shap\n",
            "Installing collected packages: shap\n",
            "Successfully installed shap-0.35.0\n"
          ],
          "name": "stdout"
        }
      ]
    },
    {
      "cell_type": "code",
      "metadata": {
        "id": "KIKmn0Y3iV0F",
        "colab_type": "code",
        "colab": {
          "base_uri": "https://localhost:8080/",
          "height": 446
        },
        "outputId": "6d49f402-e91a-48c8-d30a-3961f5e4ef0b"
      },
      "source": [
        "import shap\n",
        "shap_values = shap.TreeExplainer(grid_results.best_estimator_).shap_values(X_train)\n",
        "shap.summary_plot(shap_values, X_train, plot_type=\"bar\")"
      ],
      "execution_count": 107,
      "outputs": [
        {
          "output_type": "stream",
          "text": [
            "Setting feature_perturbation = \"tree_path_dependent\" because no background data was given.\n"
          ],
          "name": "stderr"
        },
        {
          "output_type": "display_data",
          "data": {
            "image/png": "[encoded data removed]",
            "text/plain": [
              "<Figure size 576x482.4 with 1 Axes>"
            ]
          },
          "metadata": {
            "tags": [],
            "needs_background": "light"
          }
        }
      ]
    },
    {
      "cell_type": "code",
      "metadata": {
        "id": "FIn88S9wlJ-o",
        "colab_type": "code",
        "colab": {
          "base_uri": "https://localhost:8080/",
          "height": 433
        },
        "outputId": "f0be986c-2c48-45f7-9912-e989067eb14f"
      },
      "source": [
        "shap.summary_plot(shap_values, X_train)"
      ],
      "execution_count": 109,
      "outputs": [
        {
          "output_type": "display_data",
          "data": {
            "image/png": "[encoded data removed]",
            "text/plain": [
              "<Figure size 576x482.4 with 2 Axes>"
            ]
          },
          "metadata": {
            "tags": [],
            "needs_background": "light"
          }
        }
      ]
    },
    {
      "cell_type": "code",
      "metadata": {
        "id": "Yls26r2Tl75d",
        "colab_type": "code",
        "colab": {}
      },
      "source": [
        ""
      ],
      "execution_count": null,
      "outputs": []
    }
  ]
}